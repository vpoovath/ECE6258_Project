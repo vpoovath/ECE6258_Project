{
 "cells": [
  {
   "cell_type": "code",
   "execution_count": 1,
   "metadata": {},
   "outputs": [
    {
     "name": "stdout",
     "output_type": "stream",
     "text": [
      "Collecting mxnet\n",
      "  Using cached mxnet-1.7.0.post1-py2.py3-none-manylinux2014_x86_64.whl (55.0 MB)\n",
      "Requirement already up-to-date: gluoncv in /home/ubuntu/anaconda3/envs/mxnet_latest_p37/lib/python3.7/site-packages (0.8.0)\n",
      "Requirement already satisfied, skipping upgrade: graphviz<0.9.0,>=0.8.1 in /home/ubuntu/anaconda3/envs/mxnet_latest_p37/gpu/lib/python3.7/site-packages (from mxnet) (0.8.4)\n",
      "Requirement already satisfied, skipping upgrade: requests<3,>=2.20.0 in /home/ubuntu/anaconda3/envs/mxnet_latest_p37/lib/python3.7/site-packages (from mxnet) (2.22.0)\n",
      "Requirement already satisfied, skipping upgrade: numpy<2.0.0,>1.16.0 in /home/ubuntu/anaconda3/envs/mxnet_latest_p37/lib/python3.7/site-packages (from mxnet) (1.18.1)\n",
      "Requirement already satisfied, skipping upgrade: tqdm in /home/ubuntu/anaconda3/envs/mxnet_latest_p37/lib/python3.7/site-packages (from gluoncv) (4.42.1)\n",
      "Requirement already satisfied, skipping upgrade: matplotlib in /home/ubuntu/anaconda3/envs/mxnet_latest_p37/lib/python3.7/site-packages (from gluoncv) (3.1.3)\n",
      "Requirement already satisfied, skipping upgrade: scipy in /home/ubuntu/anaconda3/envs/mxnet_latest_p37/lib/python3.7/site-packages (from gluoncv) (1.4.1)\n",
      "Requirement already satisfied, skipping upgrade: Pillow in /home/ubuntu/anaconda3/envs/mxnet_latest_p37/lib/python3.7/site-packages (from gluoncv) (7.0.0)\n",
      "Requirement already satisfied, skipping upgrade: portalocker in /home/ubuntu/anaconda3/envs/mxnet_latest_p37/lib/python3.7/site-packages (from gluoncv) (2.0.0)\n",
      "Requirement already satisfied, skipping upgrade: idna<2.9,>=2.5 in /home/ubuntu/anaconda3/envs/mxnet_latest_p37/lib/python3.7/site-packages (from requests<3,>=2.20.0->mxnet) (2.8)\n",
      "Requirement already satisfied, skipping upgrade: chardet<3.1.0,>=3.0.2 in /home/ubuntu/anaconda3/envs/mxnet_latest_p37/lib/python3.7/site-packages (from requests<3,>=2.20.0->mxnet) (3.0.4)\n",
      "Requirement already satisfied, skipping upgrade: certifi>=2017.4.17 in /home/ubuntu/anaconda3/envs/mxnet_latest_p37/lib/python3.7/site-packages (from requests<3,>=2.20.0->mxnet) (2020.6.20)\n",
      "Requirement already satisfied, skipping upgrade: urllib3!=1.25.0,!=1.25.1,<1.26,>=1.21.1 in /home/ubuntu/anaconda3/envs/mxnet_latest_p37/lib/python3.7/site-packages (from requests<3,>=2.20.0->mxnet) (1.25.8)\n",
      "Requirement already satisfied, skipping upgrade: python-dateutil>=2.1 in /home/ubuntu/anaconda3/envs/mxnet_latest_p37/lib/python3.7/site-packages (from matplotlib->gluoncv) (2.8.1)\n",
      "Requirement already satisfied, skipping upgrade: cycler>=0.10 in /home/ubuntu/anaconda3/envs/mxnet_latest_p37/lib/python3.7/site-packages (from matplotlib->gluoncv) (0.10.0)\n",
      "Requirement already satisfied, skipping upgrade: kiwisolver>=1.0.1 in /home/ubuntu/anaconda3/envs/mxnet_latest_p37/lib/python3.7/site-packages (from matplotlib->gluoncv) (1.1.0)\n",
      "Requirement already satisfied, skipping upgrade: pyparsing!=2.0.4,!=2.1.2,!=2.1.6,>=2.0.1 in /home/ubuntu/anaconda3/envs/mxnet_latest_p37/lib/python3.7/site-packages (from matplotlib->gluoncv) (2.4.6)\n",
      "Requirement already satisfied, skipping upgrade: six>=1.5 in /home/ubuntu/anaconda3/envs/mxnet_latest_p37/lib/python3.7/site-packages (from python-dateutil>=2.1->matplotlib->gluoncv) (1.14.0)\n",
      "Requirement already satisfied, skipping upgrade: setuptools in /home/ubuntu/anaconda3/envs/mxnet_latest_p37/lib/python3.7/site-packages (from kiwisolver>=1.0.1->matplotlib->gluoncv) (45.2.0.post20200210)\n",
      "Installing collected packages: mxnet\n",
      "Successfully installed mxnet-1.7.0.post1\n",
      "Found existing installation: mxnet 1.7.0.post1\n",
      "Uninstalling mxnet-1.7.0.post1:\n",
      "  Successfully uninstalled mxnet-1.7.0.post1\n",
      "Requirement already satisfied: mxnet-cu100 in /home/ubuntu/anaconda3/envs/mxnet_latest_p37/lib/python3.7/site-packages (1.7.0)\n",
      "Requirement already satisfied: graphviz<0.9.0,>=0.8.1 in /home/ubuntu/anaconda3/envs/mxnet_latest_p37/gpu/lib/python3.7/site-packages (from mxnet-cu100) (0.8.4)\n",
      "Requirement already satisfied: requests<3,>=2.20.0 in /home/ubuntu/anaconda3/envs/mxnet_latest_p37/lib/python3.7/site-packages (from mxnet-cu100) (2.22.0)\n",
      "Requirement already satisfied: numpy<2.0.0,>1.16.0 in /home/ubuntu/anaconda3/envs/mxnet_latest_p37/lib/python3.7/site-packages (from mxnet-cu100) (1.18.1)\n",
      "Requirement already satisfied: chardet<3.1.0,>=3.0.2 in /home/ubuntu/anaconda3/envs/mxnet_latest_p37/lib/python3.7/site-packages (from requests<3,>=2.20.0->mxnet-cu100) (3.0.4)\n",
      "Requirement already satisfied: idna<2.9,>=2.5 in /home/ubuntu/anaconda3/envs/mxnet_latest_p37/lib/python3.7/site-packages (from requests<3,>=2.20.0->mxnet-cu100) (2.8)\n",
      "Requirement already satisfied: urllib3!=1.25.0,!=1.25.1,<1.26,>=1.21.1 in /home/ubuntu/anaconda3/envs/mxnet_latest_p37/lib/python3.7/site-packages (from requests<3,>=2.20.0->mxnet-cu100) (1.25.8)\n",
      "Requirement already satisfied: certifi>=2017.4.17 in /home/ubuntu/anaconda3/envs/mxnet_latest_p37/lib/python3.7/site-packages (from requests<3,>=2.20.0->mxnet-cu100) (2020.6.20)\n",
      "Imports successful\n"
     ]
    }
   ],
   "source": [
    "!pip install --upgrade mxnet gluoncv\n",
    "!pip uninstall mxnet --yes\n",
    "!pip install mxnet-cu100\n",
    "\n",
    "import mxnet as mx\n",
    "import numpy as np\n",
    "import time, argparse\n",
    "\n",
    "from mxnet import nd, gpu, gluon, autograd\n",
    "from mxnet.gluon import nn\n",
    "from mxnet.gluon.data.vision import datasets, transforms\n",
    "from mxnet.gluon.model_zoo.vision import get_model\n",
    "from gluoncv.utils import makedirs, TrainingHistory\n",
    "\n",
    "print(\"Imports successful\")"
   ]
  },
  {
   "cell_type": "code",
   "execution_count": 4,
   "metadata": {},
   "outputs": [
    {
     "name": "stdout",
     "output_type": "stream",
     "text": [
      "GPU Net Initialization Successful\n"
     ]
    }
   ],
   "source": [
    "num_gpus = 1\n",
    "ctx = [mx.gpu(i) for i in range(num_gpus)]\n",
    "\n",
    "net = get_model('ResNet50_v2', classes=1000)\n",
    "net.initialize(mx.init.MSRAPrelu(), ctx=ctx)\n",
    "print(\"GPU Net Initialization Successful\")"
   ]
  }
 ],
 "metadata": {
  "kernelspec": {
   "display_name": "Python [conda env:mxnet_latest_p37] *",
   "language": "python",
   "name": "conda-env-mxnet_latest_p37-py"
  },
  "language_info": {
   "codemirror_mode": {
    "name": "ipython",
    "version": 3
   },
   "file_extension": ".py",
   "mimetype": "text/x-python",
   "name": "python",
   "nbconvert_exporter": "python",
   "pygments_lexer": "ipython3",
   "version": "3.7.6"
  }
 },
 "nbformat": 4,
 "nbformat_minor": 4
}
