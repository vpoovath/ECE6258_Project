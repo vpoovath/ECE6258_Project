{
 "cells": [
  {
   "cell_type": "code",
   "execution_count": 1,
   "metadata": {},
   "outputs": [
    {
     "name": "stdout",
     "output_type": "stream",
     "text": [
      "Imports successful\n"
     ]
    }
   ],
   "source": [
    "from __future__ import division\n",
    "\n",
    "%matplotlib inline\n",
    "from matplotlib.pyplot import imshow\n",
    "\n",
    "import argparse, time, logging, random, math, cv2\n",
    "\n",
    "import numpy as np\n",
    "import mxnet as mx\n",
    "\n",
    "from mxnet import gluon, nd\n",
    "from mxnet import autograd as ag\n",
    "from mxnet.gluon import nn\n",
    "from datetime import datetime\n",
    "from mxnet.gluon.data.vision import transforms\n",
    "from skimage import util\n",
    "\n",
    "from gluoncv.model_zoo import get_model\n",
    "from gluoncv.utils import makedirs, TrainingHistory, viz\n",
    "from gluoncv.data import transforms as gcv_transforms\n",
    "print(\"Imports successful\")"
   ]
  },
  {
   "cell_type": "code",
   "execution_count": 2,
   "metadata": {},
   "outputs": [
    {
     "name": "stdout",
     "output_type": "stream",
     "text": [
      "Model Init Done.\n"
     ]
    }
   ],
   "source": [
    "# number of GPUs to use\n",
    "num_gpus = 1\n",
    "ctx = [mx.gpu(i) for i in range(num_gpus)]\n",
    "\n",
    "default_init = True\n",
    "\n",
    "net = get_model('cifar_resnet56_v1', classes=100)\n",
    "if default_init:\n",
    "    net.initialize(mx.init.Xavier(), ctx = ctx)\n",
    "else:\n",
    "    net.initialize(mx.init.MSRAPrelu(), ctx=ctx)\n",
    "    print(\"Using MSRA Prelu Init.\")\n",
    "print(\"Model Init Done.\")"
   ]
  },
  {
   "cell_type": "code",
   "execution_count": 3,
   "metadata": {},
   "outputs": [
    {
     "name": "stdout",
     "output_type": "stream",
     "text": [
      "Preprocessing Step Successful.\n"
     ]
    }
   ],
   "source": [
    "resize = 32\n",
    "mean_rgb = [0.485, 0.456, 0.406]\n",
    "std_rgb = [0.229, 0.224, 0.225]\n",
    "max_aspect_ratio = 4.0 / 3.0\n",
    "min_aspect_ratio = 3.0 / 4.0\n",
    "max_random_area = 1\n",
    "min_random_area = 0.08\n",
    "jitter_param = 0.4\n",
    "lighting_param = 0.1\n",
    "\n",
    "transform_train = transforms.Compose([       \n",
    "#     # Randomly flip the image horizontally\n",
    "#     transforms.RandomFlipLeftRight(),\n",
    "    \n",
    "#     transforms.RandomBrightness(brightness=jitter_param),\n",
    "#     transforms.RandomSaturation(saturation=jitter_param),\n",
    "#     transforms.RandomHue(hue=jitter_param),\n",
    "    \n",
    "#     transforms.RandomLighting(lighting_param),\n",
    "    \n",
    "#     # Randomly crop an area and resize it to be 32x32, then pad it to be 40x40\n",
    "#     gcv_transforms.RandomCrop(32, pad=4),\n",
    "        \n",
    "#     # Transpose the image from height*width*num_channels to num_channels*height*width\n",
    "#     # and map values from [0, 255] to [0,1]\n",
    "#     transforms.ToTensor(),\n",
    "    \n",
    "#     # Normalize the image with mean and standard deviation calculated across all images\n",
    "#     transforms.Normalize(mean_rgb, std_rgb),\n",
    "])\n",
    "\n",
    "transform_test = transforms.Compose([\n",
    "    transforms.ToTensor(),\n",
    "    transforms.Normalize(mean_rgb, std_rgb),\n",
    "])\n",
    "\n",
    "print(\"Preprocessing Step Successful.\")"
   ]
  },
  {
   "cell_type": "code",
   "execution_count": 4,
   "metadata": {},
   "outputs": [
    {
     "name": "stdout",
     "output_type": "stream",
     "text": [
      "Initialization of train_data and val_data successful.\n",
      "Per Device Batch Size: 256\n"
     ]
    }
   ],
   "source": [
    "# Batch Size for Each GPU\n",
    "per_device_batch_size = 256\n",
    "\n",
    "# Number of data loader workers\n",
    "num_workers = 2\n",
    "\n",
    "# Calculate effective total batch size\n",
    "batch_size = per_device_batch_size * num_gpus\n",
    "\n",
    "# Set train=True for training data\n",
    "# Set shuffle=True to shuffle the training data\n",
    "train_data = gluon.data.DataLoader(\n",
    "    gluon.data.vision.CIFAR100(train=True).transform_first(transform_train),\n",
    "    batch_size=batch_size, \n",
    "    shuffle=True, \n",
    "    last_batch='discard', \n",
    "    num_workers=num_workers)\n",
    "\n",
    "# Set train=False for validation data\n",
    "# Set shuffle=False to shuffle the testing data\n",
    "val_data = gluon.data.DataLoader(\n",
    "    gluon.data.vision.CIFAR100(train=False).transform_first(transform_test),\n",
    "    batch_size=batch_size,\n",
    "    shuffle=False,\n",
    "    num_workers=num_workers)\n",
    "print(\"Initialization of train_data and val_data successful.\")\n",
    "print(\"Per Device Batch Size: {}\".format(per_device_batch_size))"
   ]
  },
  {
   "cell_type": "markdown",
   "metadata": {},
   "source": [
    "# Adding Noise to Images\n",
    "Note that this might not work right now given the transform composition."
   ]
  },
  {
   "cell_type": "code",
   "execution_count": 5,
   "metadata": {},
   "outputs": [],
   "source": [
    "# for i, batch in enumerate(train_data):\n",
    "#     data  = gluon.utils.split_and_load(batch[0], ctx_list=ctx, batch_axis=0)\n",
    "#     label = gluon.utils.split_and_load(batch[1], ctx_list=ctx, batch_axis=0)\n",
    "    \n",
    "#     reshaped_imgs = [nd.reshape(img, (32, 32, 3)) for img in data[0]]\n",
    "#     noise_imgs = [nd.array(util.random_noise(img.asnumpy(), mode='gaussian', seed=None, clip=True))\n",
    "#                   for img in reshaped_imgs]\n",
    "#     viz.plot_image(noise_imgs[9]*255)\n",
    "     \n",
    "#     final_imgs = [nd.reshape(img, (3, 32, 32)) for img in noise_imgs]\n",
    "#     print(len(final_imgs))\n",
    "#     print(type(final_imgs))\n",
    "#     print(\"Done.\")\n",
    "#     break"
   ]
  },
  {
   "cell_type": "code",
   "execution_count": 6,
   "metadata": {},
   "outputs": [],
   "source": [
    "def spatial_mixup_transform(batch_data, lam):\n",
    "    print(batch_data.shape)\n",
    "    \n",
    "    return concat_img\n",
    "\n",
    "def spatial_mixup_label_transform(label, num_classes, lam=1, eta=0.0):\n",
    "    if isinstance(label, nd.NDArray):\n",
    "        print(\"Label changed to list\")\n",
    "        label = [label]\n",
    "    res = []\n",
    "    for l in label:\n",
    "        y1 = l.one_hot(num_classes, \n",
    "                       on_value = 1 - eta + eta/num_classes, \n",
    "                       off_value = eta/num_classes)\n",
    "        y2 = l[::-1].one_hot(num_classes,\n",
    "                             on_value = 1 - eta + eta/num_classes, \n",
    "                             off_value = eta/num_classes)\n",
    "        res.append(lam*y1 + (1-lam)*y2)\n",
    "    return res"
   ]
  },
  {
   "cell_type": "markdown",
   "metadata": {},
   "source": [
    "# Playing and Testing Stitching\n",
    "Note that depending on the pre-processing pipeline, the stitching may or may not work. If everything is converted to tensors and resahped to (batch_size, N_C, H, W) then you have to make sure that the broadcasting constraints are satisfied and any runtime errors are cleaned up."
   ]
  },
  {
   "cell_type": "code",
   "execution_count": 12,
   "metadata": {},
   "outputs": [
    {
     "name": "stdout",
     "output_type": "stream",
     "text": [
      "207\n",
      "Lambda: 0.5272430018995165 1-Lambda: 0.47275699810048355\n",
      "(32, 32, 3)\n",
      "(32, 32, 3)\n",
      "\n",
      "[11]\n",
      "<NDArray 1 @gpu(0)>\n",
      "\n",
      "[17]\n",
      "<NDArray 1 @gpu(0)>\n",
      "Horizontal Stitching\n",
      "16\n",
      "(32, 16, 3)\n",
      "(32, 16, 3)\n",
      "(32, 32, 3)\n"
     ]
    },
    {
     "data": {
      "image/png": "[encoded data removed]",
      "text/plain": [
       "<Figure size 432x288 with 1 Axes>"
      ]
     },
     "metadata": {
      "needs_background": "light"
     },
     "output_type": "display_data"
    },
    {
     "data": {
      "image/png": "[encoded data removed]",
      "text/plain": [
       "<Figure size 432x288 with 1 Axes>"
      ]
     },
     "metadata": {
      "needs_background": "light"
     },
     "output_type": "display_data"
    },
    {
     "data": {
      "image/png": "[encoded data removed]",
      "text/plain": [
       "<Figure size 432x288 with 1 Axes>"
      ]
     },
     "metadata": {
      "needs_background": "light"
     },
     "output_type": "display_data"
    },
    {
     "data": {
      "image/png": "[encoded data removed]",
      "text/plain": [
       "<Figure size 432x288 with 1 Axes>"
      ]
     },
     "metadata": {
      "needs_background": "light"
     },
     "output_type": "display_data"
    },
    {
     "data": {
      "image/png": "[encoded data removed]",
      "text/plain": [
       "<Figure size 432x288 with 1 Axes>"
      ]
     },
     "metadata": {
      "needs_background": "light"
     },
     "output_type": "display_data"
    }
   ],
   "source": [
    "a = np.random.randint(0, 256)\n",
    "print(a)\n",
    "lam = np.random.uniform(0, 1)\n",
    "print(\"Lambda: {x} 1-Lambda: {y}\".format(x=lam, y=(1-lam)))\n",
    "\n",
    "for i, batch in enumerate(train_data):\n",
    "    data  = gluon.utils.split_and_load(batch[0], ctx_list=ctx, batch_axis=0)\n",
    "    label = gluon.utils.split_and_load(batch[1], ctx_list=ctx, batch_axis=0)\n",
    "        \n",
    "\n",
    "        \n",
    "#     for X in data:\n",
    "#         Y = nd.zeros_like(X)\n",
    "#         print(X.shape) # (batch_size, num_channels, height, width)\n",
    "#         h1 = X.shape[3]\n",
    "#         print(h1*lam)\n",
    "#         print(X[:,:,:,0:int(h1*lam)].shape)\n",
    "#         print(X[::-1,:,:,int(h1*lam):h1].shape)\n",
    "#         Y[:,:,:,0:int(h1*lam)] = X[:,:,:,0:int(h1*lam)]\n",
    "#         Y[:,:,:,int(h1*lam):h1] = X[::-1,:,:,int(h1*lam):h1]\n",
    "#         print(Y.shape)\n",
    "#         print(\"Done.\")\n",
    "#         break\n",
    "    \n",
    "#     for l in label:\n",
    "#         print(l)\n",
    "#         print(l[::-1])\n",
    "        \n",
    "    #Make the sampling of this random or at least similar to the other mixup transform.\n",
    "    im1 = nd.reshape(data[0][0], (32, 32, 3))\n",
    "    label1 = label[0][0]\n",
    "    im2 = nd.reshape(data[0][1], (32, 32, 3))\n",
    "    label2 = label[0][1]\n",
    "    print(im1.shape)\n",
    "    print(im2.shape)\n",
    "    viz.plot_image(im1*255)\n",
    "    viz.plot_image(im2*255)\n",
    "    print(label1)\n",
    "    print(label2)\n",
    "    \n",
    "#     print(\"Vertical Stitching\")\n",
    "#     h1, w1 = im1.shape[0:2]\n",
    "#     h2, w2 = im2.shape[0:2]\n",
    "#     vis = nd.zeros_like(im1)\n",
    "#     print(int(h1*lam))\n",
    "#     copy1 = im1[0:int(h1*lam),:,:].copy()\n",
    "#     viz.plot_image(copy1*255)\n",
    "#     copy2 = im2[int(h1*lam):h1,:,:].copy()\n",
    "#     viz.plot_image(copy2*255)\n",
    "#     print(copy1.shape)\n",
    "#     print(copy2.shape)\n",
    "    \n",
    "#     vis[0:int(h1*lam),:,:] = copy1\n",
    "#     vis[int(h1*lam):h1,:,:] = copy2\n",
    "#     print(vis.shape)\n",
    "#     viz.plot_image(vis*255)\n",
    "    \n",
    "    print(\"Horizontal Stitching\")\n",
    "    h1, w1 = im1.shape[0:2]\n",
    "    h2, w2 = im2.shape[0:2]\n",
    "    vis = nd.zeros_like(im1)\n",
    "    print(int(h1*lam))\n",
    "    copy1 = im1[:,0:int(h1*lam),:].copy()\n",
    "    viz.plot_image(copy1*255)\n",
    "    copy2 = im2[:,int(h1*lam):h1,:].copy()\n",
    "    viz.plot_image(copy2*255)\n",
    "    print(copy1.shape)\n",
    "    print(copy2.shape)\n",
    "    \n",
    "    vis[:,0:int(h1*lam),:] = copy1\n",
    "    vis[:,int(h1*lam):h1,:] = copy2\n",
    "    print(vis.shape)\n",
    "    viz.plot_image(vis*255)\n",
    "    break"
   ]
  },
  {
   "cell_type": "code",
   "execution_count": null,
   "metadata": {},
   "outputs": [],
   "source": []
  }
 ],
 "metadata": {
  "kernelspec": {
   "display_name": "Python [conda env:mxnet_latest_p37] *",
   "language": "python",
   "name": "conda-env-mxnet_latest_p37-py"
  },
  "language_info": {
   "codemirror_mode": {
    "name": "ipython",
    "version": 3
   },
   "file_extension": ".py",
   "mimetype": "text/x-python",
   "name": "python",
   "nbconvert_exporter": "python",
   "pygments_lexer": "ipython3",
   "version": "3.7.6"
  }
 },
 "nbformat": 4,
 "nbformat_minor": 4
}
