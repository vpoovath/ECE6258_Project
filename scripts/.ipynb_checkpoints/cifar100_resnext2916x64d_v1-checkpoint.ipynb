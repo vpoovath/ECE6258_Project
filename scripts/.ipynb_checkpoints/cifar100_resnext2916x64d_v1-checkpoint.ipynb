{
 "cells": [
  {
   "cell_type": "markdown",
   "metadata": {},
   "source": [
    "# Teacher Model\n",
    "This notebook trains the ResNext29_16x64d teacher model. \n",
    "The reference paper mentions that the teacher model they used was trained using label smoothing and cosine learning rate decay. \n",
    "The same is done here, but, as seen before on ResNet56 v1 for CIFAR100, the warmup period is increased to T=20 to see if that improves the results of the teacher model, and later, on the student which the teacher trains. \n",
    "\n",
    "The parameters of the teacher model is saved to a .parmas file.\n",
    "\n",
    "The time it takes to train this specific teacher model is roughly ~10 hours...."
   ]
  },
  {
   "cell_type": "code",
   "execution_count": 1,
   "metadata": {},
   "outputs": [
    {
     "name": "stdout",
     "output_type": "stream",
     "text": [
      "Imports successful\n"
     ]
    }
   ],
   "source": [
    "from __future__ import division\n",
    "\n",
    "import argparse, time, logging, random, math, os, sys\n",
    "\n",
    "import numpy as np\n",
    "import mxnet as mx\n",
    "import gluoncv as gcv\n",
    "\n",
    "from datetime import datetime\n",
    "from mxnet import gluon, nd\n",
    "from mxnet import autograd as ag\n",
    "from mxnet.gluon import nn\n",
    "from mxnet.gluon.data.vision import transforms\n",
    "\n",
    "from gluoncv.model_zoo import get_model\n",
    "from gluoncv.utils import makedirs, TrainingHistory, LRSequential, LRScheduler\n",
    "from gluoncv.data import transforms as gcv_transforms\n",
    "print(\"Imports successful\")"
   ]
  },
  {
   "cell_type": "code",
   "execution_count": 2,
   "metadata": {},
   "outputs": [],
   "source": [
    "per_device_batch_size = 64 # Batch Size for Each GPU\n",
    "num_workers = 2             # Number of data loader workers\n",
    "dtype = 'float32'           # Default training data type if float32\n",
    "num_gpus = 1                # number of GPUs to use\n",
    "batch_size = per_device_batch_size * num_gpus # Calculate effective total batch size\n",
    "\n",
    "# For CIFAR100 Dataset:\n",
    "num_classes = 100\n",
    "num_images_per_class = 500\n",
    "num_training_samples = num_classes * num_images_per_class\n",
    "num_batches = num_training_samples // batch_size"
   ]
  },
  {
   "cell_type": "markdown",
   "metadata": {},
   "source": [
    "## Smoothing"
   ]
  },
  {
   "cell_type": "code",
   "execution_count": 3,
   "metadata": {},
   "outputs": [
    {
     "name": "stdout",
     "output_type": "stream",
     "text": [
      "\n",
      "Using label smoothing: True\n"
     ]
    }
   ],
   "source": [
    "label_smoothing = True\n",
    "def smooth(label, num_classes, eta=0.1):\n",
    "    if isinstance(label, nd.NDArray):\n",
    "        print(\"Label changed to list\")\n",
    "        label = [label]\n",
    "    smoothed = []\n",
    "    for l in label:\n",
    "        res = l.one_hot(num_classes, on_value = 1 - eta + eta/num_classes, \n",
    "                                     off_value = eta/num_classes)\n",
    "        smoothed.append(res)\n",
    "    return smoothed\n",
    "print(\"\\nUsing label smoothing: {}\".format(label_smoothing))"
   ]
  },
  {
   "cell_type": "markdown",
   "metadata": {},
   "source": [
    "## Mixup"
   ]
  },
  {
   "cell_type": "code",
   "execution_count": 4,
   "metadata": {},
   "outputs": [
    {
     "name": "stdout",
     "output_type": "stream",
     "text": [
      "Using mixup: False\n"
     ]
    }
   ],
   "source": [
    "mixup = False\n",
    "def mixup_transform(label, num_classes, lam=1, eta=0.0):\n",
    "    if isinstance(label, nd.NDArray):\n",
    "        print(\"Label changed to list\")\n",
    "        label = [label]\n",
    "    res = []\n",
    "    for l in label:\n",
    "        y1 = l.one_hot(num_classes, on_value = 1 - eta + eta/num_classes, \n",
    "                                    off_value = eta/num_classes)\n",
    "        y2 = l[::-1].one_hot(num_classes, on_value = 1 - eta + eta/num_classes, \n",
    "                                          off_value = eta/num_classes)\n",
    "        res.append(lam*y1 + (1-lam)*y2)\n",
    "    return res\n",
    "print(\"Using mixup: {}\".format(mixup))"
   ]
  },
  {
   "cell_type": "markdown",
   "metadata": {},
   "source": [
    "# Model Init"
   ]
  },
  {
   "cell_type": "code",
   "execution_count": 5,
   "metadata": {},
   "outputs": [
    {
     "name": "stdout",
     "output_type": "stream",
     "text": [
      "\n",
      "Model Init Done.\n"
     ]
    }
   ],
   "source": [
    "ctx = [mx.gpu(i) for i in range(num_gpus)]\n",
    "\n",
    "# last_gamma = False\n",
    "# print(\"Using last gamma: {}\".format(last_gamma))\n",
    "# kwargs = {'ctx':ctx, 'classes':num_classes, 'last_gamma':last_gamma}\n",
    "\n",
    "kwargs = {'ctx':ctx, 'classes':num_classes}\n",
    "\n",
    "use_group_norm = False\n",
    "if use_group_norm:\n",
    "    kwargs['norm_layer'] = gcv.nn.GroupNorm\n",
    "    print(\"Using Group Normalization: {}\".format(use_group_norm))\n",
    "\n",
    "default_init = True\n",
    "net = get_model('cifar_resnext29_16x64d', **kwargs)\n",
    "\n",
    "if default_init:\n",
    "    net.initialize(mx.init.Xavier(), ctx = ctx)\n",
    "else:\n",
    "    net.initialize(mx.init.MSRAPrelu(), ctx=ctx)\n",
    "    print(\"Using MSRA Prelu Init.\")\n",
    "\n",
    "    net.cast(dtype)\n",
    "print(\"\\nModel Init Done.\")"
   ]
  },
  {
   "cell_type": "code",
   "execution_count": 6,
   "metadata": {},
   "outputs": [
    {
     "name": "stdout",
     "output_type": "stream",
     "text": [
      "Preprocessing Step Successful.\n"
     ]
    }
   ],
   "source": [
    "resize = 32\n",
    "mean_rgb = [0.485, 0.456, 0.406]\n",
    "std_rgb = [0.229, 0.224, 0.225]\n",
    "max_aspect_ratio = 4.0 / 3.0\n",
    "min_aspect_ratio = 3.0 / 4.0\n",
    "max_random_area = 1\n",
    "min_random_area = 0.08\n",
    "jitter_param = 0.4\n",
    "lighting_param = 0.1\n",
    "\n",
    "transform_train = transforms.Compose([    \n",
    "#     transforms.RandomResizedCrop(resize,\n",
    "#                                  scale=(min_random_area, max_random_area), \n",
    "#                                  ratio=(min_aspect_ratio, max_aspect_ratio)),\n",
    "    \n",
    "        # Randomly flip the image horizontally\n",
    "    transforms.RandomFlipLeftRight(),\n",
    "    \n",
    "    transforms.RandomBrightness(brightness=jitter_param),\n",
    "    transforms.RandomSaturation(saturation=jitter_param),\n",
    "    transforms.RandomHue(hue=jitter_param),\n",
    "    \n",
    "    transforms.RandomLighting(lighting_param),\n",
    "    \n",
    "    # Randomly crop an area and resize it to be 32x32, then pad it to be 40x40\n",
    "    gcv_transforms.RandomCrop(32, pad=4),\n",
    "        \n",
    "    # Transpose the image from height*width*num_channels to num_channels*height*width\n",
    "    # and map values from [0, 255] to [0,1]\n",
    "    transforms.ToTensor(),\n",
    "    \n",
    "    # Normalize the image with mean and standard deviation calculated across all images\n",
    "    transforms.Normalize(mean_rgb, std_rgb),\n",
    "])\n",
    "\n",
    "transform_test = transforms.Compose([\n",
    "    transforms.ToTensor(),\n",
    "    transforms.Normalize(mean_rgb, std_rgb),\n",
    "])\n",
    "print(\"Preprocessing Step Successful.\")"
   ]
  },
  {
   "cell_type": "markdown",
   "metadata": {},
   "source": [
    "# Compose Image Transforms"
   ]
  },
  {
   "cell_type": "code",
   "execution_count": 7,
   "metadata": {},
   "outputs": [
    {
     "name": "stdout",
     "output_type": "stream",
     "text": [
      "Initialization of train_data and val_data successful.\n",
      "Per Device Batch Size: 64\n"
     ]
    }
   ],
   "source": [
    "# Set train=True for training data\n",
    "# Set shuffle=True to shuffle the training data\n",
    "train_data = gluon.data.DataLoader(\n",
    "    gluon.data.vision.CIFAR100(train=True).transform_first(transform_train),\n",
    "    batch_size=batch_size, \n",
    "    shuffle=True, \n",
    "    last_batch='discard', \n",
    "    num_workers=num_workers)\n",
    "\n",
    "# Set train=False for validation data\n",
    "# Set shuffle=False to shuffle the testing data\n",
    "val_data = gluon.data.DataLoader(\n",
    "    gluon.data.vision.CIFAR100(train=False).transform_first(transform_test),\n",
    "    batch_size=batch_size,\n",
    "    shuffle=False,\n",
    "    num_workers=num_workers)\n",
    "print(\"Initialization of train_data and val_data successful.\")\n",
    "print(\"Per Device Batch Size: {}\".format(per_device_batch_size))"
   ]
  },
  {
   "cell_type": "markdown",
   "metadata": {},
   "source": [
    "# Training Settings"
   ]
  },
  {
   "cell_type": "code",
   "execution_count": 8,
   "metadata": {},
   "outputs": [
    {
     "name": "stdout",
     "output_type": "stream",
     "text": [
      "sparse label loss: False\n",
      "\n",
      "Using label smoothing: True\n",
      "Using mixup: False\n",
      "\n",
      "Using nag Optimizer\n",
      "{'lr_scheduler': <gluoncv.utils.lr_scheduler.LRSequential object at 0x7f83f2df8bd0>, 'wd': 0.0001, 'momentum': 0.9}\n",
      "\n",
      "Number of warmup epochs: 20\n",
      "Warmup Learning Rate Mode: linear\n",
      "Learing Rate Mode: cosine\n",
      "Learing Rate Decay: 0.1\n",
      "Learning Rate Decay Epochs: [30, 60, 90, inf]\n",
      "\n",
      "Training Settings Set Successfully.\n"
     ]
    }
   ],
   "source": [
    "if mixup:\n",
    "    epochs = 200 # Mixup asks for longer training to converge better\n",
    "else:\n",
    "    epochs = 120\n",
    "    \n",
    "warmup_epochs = 20\n",
    "mixup_off_epochs = 0 # Modify this depending on the other mixup results with CIFAR_ResNet56\n",
    "alpha = 0.2 # For Beta distribution sampling\n",
    "\n",
    "lr_decay_epochs = [30, 60, 90, np.inf] # Epochs where learning rate decays\n",
    "# lr_decay_epochs = [40, 80]\n",
    "\n",
    "warmup_lr_mode = 'linear'\n",
    "lr_mode = 'cosine'\n",
    "lr_decay = 0.1 # Learning rate decay factor\n",
    "target_lr = 0\n",
    "\n",
    "# Sets up a linear warmup scheduler, followed by a cosine rate decay.\n",
    "# Consult the paper for the proper parameters (base_lr, target_lr, warmup_epochs, etc.)\n",
    "lr_scheduler = LRSequential([\n",
    "    LRScheduler(warmup_lr_mode,\n",
    "                base_lr = 0,\n",
    "                target_lr = 0.1,\n",
    "                nepochs = warmup_epochs,\n",
    "                iters_per_epoch = num_batches),\n",
    "    \n",
    "    LRScheduler(lr_mode,\n",
    "                base_lr = 0.1,\n",
    "                target_lr = target_lr,\n",
    "                nepochs = epochs - warmup_epochs,\n",
    "                iters_per_epoch = num_batches,\n",
    "                step_epoch = lr_decay_epochs,\n",
    "                step_factor = lr_decay,\n",
    "                power = 2)\n",
    "])\n",
    "\n",
    "# Nesterov accelerated gradient descent and set parameters (based of off \n",
    "# reference papers and default values):\n",
    "optimizer = 'nag'\n",
    "optimizer_params = {'lr_scheduler': lr_scheduler, 'wd': 0.0001, 'momentum': 0.9}\n",
    "\n",
    "# Define our trainer for net\n",
    "trainer = gluon.Trainer(net.collect_params(), optimizer, optimizer_params)\n",
    "\n",
    "if label_smoothing or mixup:\n",
    "    sparse_label_loss = False\n",
    "else:\n",
    "    sparse_label_loss = True\n",
    "\n",
    "print(\"sparse label loss: {}\".format(sparse_label_loss))\n",
    "\n",
    "loss_fn = gluon.loss.SoftmaxCrossEntropyLoss(sparse_label=sparse_label_loss)\n",
    "\n",
    "train_metric = mx.metric.Accuracy()\n",
    "train_history = TrainingHistory(['training-error', 'validation-error'])\n",
    "train_history2 = TrainingHistory(['training-acc', 'val-acc-top1', 'val-acc-top5'])\n",
    "\n",
    "print(\"\\nUsing label smoothing: {}\".format(label_smoothing))\n",
    "print(\"Using mixup: {}\".format(mixup))\n",
    "\n",
    "print(\"\\nUsing {} Optimizer\".format(optimizer))\n",
    "print(optimizer_params)\n",
    "print(\"\\nNumber of warmup epochs: {}\".format(warmup_epochs))\n",
    "print(\"Warmup Learning Rate Mode: {}\".format(warmup_lr_mode))\n",
    "print(\"Learing Rate Mode: {}\".format(lr_mode))\n",
    "print(\"Learing Rate Decay: {}\".format(lr_decay))\n",
    "print(\"Learning Rate Decay Epochs: {}\".format(lr_decay_epochs))\n",
    "print(\"\\nTraining Settings Set Successfully.\")"
   ]
  },
  {
   "cell_type": "markdown",
   "metadata": {},
   "source": [
    "# Test Function"
   ]
  },
  {
   "cell_type": "code",
   "execution_count": 9,
   "metadata": {},
   "outputs": [],
   "source": [
    "acc_top1 = mx.metric.Accuracy()\n",
    "acc_top5 = mx.metric.TopKAccuracy(5)\n",
    "\n",
    "def test(ctx, val_data):\n",
    "    acc_top1.reset()\n",
    "    acc_top5.reset()\n",
    "    \n",
    "    for i, batch in enumerate(val_data):\n",
    "        data = gluon.utils.split_and_load(batch[0], ctx_list=ctx, batch_axis=0)\n",
    "        label = gluon.utils.split_and_load(batch[1], ctx_list=ctx, batch_axis=0)\n",
    "        outputs = [net(X.astype(dtype, copy=False)) for X in data]\n",
    "        acc_top1.update(label, outputs)\n",
    "        acc_top5.update(label, outputs)\n",
    "    \n",
    "    _, top1 = acc_top1.get()\n",
    "    _, top5 = acc_top5.get()\n",
    "    \n",
    "    return (top1, top5)"
   ]
  },
  {
   "cell_type": "markdown",
   "metadata": {},
   "source": [
    "# Training Loop"
   ]
  },
  {
   "cell_type": "code",
   "execution_count": 10,
   "metadata": {},
   "outputs": [
    {
     "name": "stdout",
     "output_type": "stream",
     "text": [
      "Training loop started for 120 epochs:\n",
      "[Epoch 0] train=0.144086 val_top1=0.244900 val_top5=0.625100 loss=165950.247070 time: 308.230377\n",
      "[Epoch 1] train=0.302757 val_top1=0.355700 val_top5=0.739700 loss=138982.910324 time: 304.161696\n",
      "[Epoch 2] train=0.418174 val_top1=0.456800 val_top5=0.843600 loss=121215.344276 time: 302.308851\n",
      "[Epoch 3] train=0.502241 val_top1=0.542500 val_top5=0.879600 loss=109186.582550 time: 302.578928\n",
      "[Epoch 4] train=0.552257 val_top1=0.543800 val_top5=0.881600 loss=102101.186539 time: 306.124238\n",
      "[Epoch 5] train=0.590789 val_top1=0.572700 val_top5=0.885500 loss=96763.878769 time: 303.435416\n",
      "[Epoch 6] train=0.622879 val_top1=0.596700 val_top5=0.899500 loss=92497.176605 time: 304.513026\n",
      "[Epoch 7] train=0.649708 val_top1=0.611400 val_top5=0.914200 loss=88639.202278 time: 304.990361\n",
      "[Epoch 8] train=0.670635 val_top1=0.614800 val_top5=0.916100 loss=85689.070374 time: 303.614099\n",
      "[Epoch 9] train=0.688620 val_top1=0.658000 val_top5=0.933200 loss=83054.827187 time: 303.828345\n",
      "[Epoch 10] train=0.703885 val_top1=0.654900 val_top5=0.930000 loss=81034.516685 time: 304.514904\n",
      "[Epoch 11] train=0.720611 val_top1=0.671000 val_top5=0.930600 loss=78878.162270 time: 303.787615\n",
      "[Epoch 12] train=0.733715 val_top1=0.680000 val_top5=0.933900 loss=77058.978882 time: 302.738887\n",
      "[Epoch 13] train=0.746059 val_top1=0.686700 val_top5=0.942500 loss=75758.616241 time: 303.503052\n",
      "[Epoch 14] train=0.751841 val_top1=0.704900 val_top5=0.949400 loss=74868.821579 time: 305.799881\n",
      "[Epoch 15] train=0.760083 val_top1=0.729100 val_top5=0.950000 loss=73536.187431 time: 303.891474\n",
      "[Epoch 16] train=0.765765 val_top1=0.731600 val_top5=0.949800 loss=72672.482300 time: 304.512524\n",
      "[Epoch 17] train=0.772467 val_top1=0.689900 val_top5=0.937700 loss=71696.211784 time: 303.044605\n",
      "[Epoch 18] train=0.777089 val_top1=0.714300 val_top5=0.951000 loss=71190.532547 time: 303.113924\n",
      "[Epoch 19] train=0.780830 val_top1=0.719900 val_top5=0.948600 loss=70541.771599 time: 303.118111\n",
      "[Epoch 20] train=0.787032 val_top1=0.722800 val_top5=0.952800 loss=69833.723839 time: 305.075715\n",
      "[Epoch 21] train=0.799996 val_top1=0.726100 val_top5=0.940500 loss=68300.633347 time: 303.279199\n",
      "[Epoch 22] train=0.807718 val_top1=0.742200 val_top5=0.959100 loss=67088.712906 time: 303.717272\n",
      "[Epoch 23] train=0.818462 val_top1=0.739400 val_top5=0.958000 loss=65721.221901 time: 303.986579\n",
      "[Epoch 24] train=0.824644 val_top1=0.741200 val_top5=0.956300 loss=65103.508888 time: 301.654716\n",
      "[Epoch 25] train=0.829345 val_top1=0.731100 val_top5=0.955100 loss=64310.702316 time: 303.622933\n",
      "[Epoch 26] train=0.836088 val_top1=0.731600 val_top5=0.953600 loss=63290.413101 time: 303.612154\n",
      "[Epoch 27] train=0.842870 val_top1=0.748400 val_top5=0.956300 loss=62677.549347 time: 303.730287\n",
      "[Epoch 28] train=0.844850 val_top1=0.749000 val_top5=0.957100 loss=62155.320602 time: 303.525117\n",
      "[Epoch 29] train=0.851272 val_top1=0.716900 val_top5=0.944600 loss=61434.443127 time: 305.735018\n",
      "[Epoch 30] train=0.855774 val_top1=0.759600 val_top5=0.954000 loss=60955.988384 time: 303.718971\n",
      "[Epoch 31] train=0.860935 val_top1=0.736700 val_top5=0.950700 loss=60341.636154 time: 302.281284\n",
      "[Epoch 32] train=0.864477 val_top1=0.748400 val_top5=0.956700 loss=59640.826229 time: 302.163128\n",
      "[Epoch 33] train=0.868118 val_top1=0.731600 val_top5=0.949400 loss=59314.446743 time: 298.143090\n",
      "[Epoch 34] train=0.872039 val_top1=0.731800 val_top5=0.952100 loss=58766.443699 time: 298.354054\n",
      "[Epoch 35] train=0.873580 val_top1=0.735900 val_top5=0.946000 loss=58561.882191 time: 298.888344\n",
      "[Epoch 36] train=0.876801 val_top1=0.745600 val_top5=0.956000 loss=57981.481152 time: 295.742766\n",
      "[Epoch 37] train=0.884823 val_top1=0.748700 val_top5=0.943100 loss=57198.790386 time: 296.488026\n",
      "[Epoch 38] train=0.885043 val_top1=0.755300 val_top5=0.953500 loss=56938.979877 time: 297.825458\n",
      "[Epoch 39] train=0.891585 val_top1=0.727900 val_top5=0.947400 loss=56266.517223 time: 299.000101\n",
      "[Epoch 40] train=0.893606 val_top1=0.768700 val_top5=0.953000 loss=56005.137623 time: 302.662359\n",
      "[Epoch 41] train=0.896627 val_top1=0.759500 val_top5=0.948600 loss=55667.867046 time: 301.515842\n",
      "[Epoch 42] train=0.901629 val_top1=0.761600 val_top5=0.954500 loss=54880.732983 time: 298.940380\n",
      "[Epoch 43] train=0.902889 val_top1=0.758100 val_top5=0.951200 loss=54701.565704 time: 301.536966\n",
      "[Epoch 44] train=0.908251 val_top1=0.761600 val_top5=0.951400 loss=54129.640999 time: 299.464010\n",
      "[Epoch 45] train=0.912812 val_top1=0.769500 val_top5=0.957000 loss=53681.509117 time: 298.441642\n",
      "[Epoch 46] train=0.914773 val_top1=0.764500 val_top5=0.955200 loss=53257.643841 time: 298.089096\n",
      "[Epoch 47] train=0.920835 val_top1=0.758900 val_top5=0.952300 loss=52580.117058 time: 297.476734\n",
      "[Epoch 48] train=0.922415 val_top1=0.751800 val_top5=0.949100 loss=52372.080128 time: 298.360461\n",
      "[Epoch 49] train=0.925596 val_top1=0.775200 val_top5=0.959200 loss=51998.306049 time: 297.186375\n",
      "[Epoch 50] train=0.930718 val_top1=0.780400 val_top5=0.960200 loss=51270.074711 time: 298.584158\n",
      "[Epoch 51] train=0.934619 val_top1=0.772800 val_top5=0.958900 loss=50880.886070 time: 302.025678\n",
      "[Epoch 52] train=0.934959 val_top1=0.772100 val_top5=0.953600 loss=50774.016773 time: 300.631835\n",
      "[Epoch 53] train=0.939081 val_top1=0.774200 val_top5=0.956800 loss=50315.857105 time: 297.825616\n",
      "[Epoch 54] train=0.940861 val_top1=0.778800 val_top5=0.958500 loss=49931.399525 time: 298.631593\n",
      "[Epoch 55] train=0.945202 val_top1=0.792700 val_top5=0.959300 loss=49438.874550 time: 302.310631\n",
      "[Epoch 56] train=0.949964 val_top1=0.780200 val_top5=0.959300 loss=48767.144123 time: 301.240998\n",
      "[Epoch 57] train=0.951905 val_top1=0.785800 val_top5=0.957200 loss=48600.154217 time: 303.462804\n",
      "[Epoch 58] train=0.958407 val_top1=0.777100 val_top5=0.951600 loss=47793.916195 time: 300.273952\n",
      "[Epoch 59] train=0.956846 val_top1=0.776300 val_top5=0.953000 loss=47867.099022 time: 298.717315\n",
      "[Epoch 60] train=0.960887 val_top1=0.790900 val_top5=0.961700 loss=47281.227230 time: 299.471051\n",
      "[Epoch 61] train=0.963628 val_top1=0.792900 val_top5=0.961600 loss=47107.013493 time: 298.373777\n",
      "[Epoch 62] train=0.963968 val_top1=0.789100 val_top5=0.953900 loss=46877.922543 time: 298.291495\n",
      "[Epoch 63] train=0.970471 val_top1=0.796100 val_top5=0.959000 loss=46103.391155 time: 301.017857\n",
      "[Epoch 64] train=0.973572 val_top1=0.802300 val_top5=0.957200 loss=45590.193192 time: 301.326381\n",
      "[Epoch 65] train=0.976292 val_top1=0.809900 val_top5=0.962400 loss=45165.240829 time: 299.364607\n",
      "[Epoch 66] train=0.977133 val_top1=0.802600 val_top5=0.960100 loss=45081.575172 time: 299.212751\n",
      "[Epoch 67] train=0.978953 val_top1=0.807200 val_top5=0.959500 loss=44729.707096 time: 300.743496\n",
      "[Epoch 68] train=0.981994 val_top1=0.811100 val_top5=0.959400 loss=44277.413040 time: 301.620708\n",
      "[Epoch 69] train=0.983495 val_top1=0.806700 val_top5=0.957700 loss=43993.044125 time: 298.288212\n",
      "[Epoch 70] train=0.984575 val_top1=0.816500 val_top5=0.958700 loss=43772.524471 time: 297.259854\n",
      "[Epoch 71] train=0.989457 val_top1=0.819300 val_top5=0.965900 loss=43021.318859 time: 298.255656\n",
      "[Epoch 72] train=0.989597 val_top1=0.824400 val_top5=0.964200 loss=42767.213543 time: 298.192410\n",
      "[Epoch 73] train=0.991417 val_top1=0.820100 val_top5=0.962100 loss=42480.830574 time: 298.954729\n",
      "[Epoch 74] train=0.994318 val_top1=0.835800 val_top5=0.967900 loss=41871.753086 time: 300.840080\n",
      "[Epoch 75] train=0.995359 val_top1=0.827200 val_top5=0.964100 loss=41547.620628 time: 299.487843\n",
      "[Epoch 76] train=0.996019 val_top1=0.839900 val_top5=0.966800 loss=41375.820995 time: 298.782283\n",
      "[Epoch 77] train=0.997199 val_top1=0.843800 val_top5=0.969200 loss=41064.586994 time: 299.419552\n",
      "[Epoch 78] train=0.997579 val_top1=0.841400 val_top5=0.967100 loss=40824.705307 time: 298.791627\n",
      "[Epoch 79] train=0.997979 val_top1=0.840800 val_top5=0.970000 loss=40646.647953 time: 298.016232\n",
      "[Epoch 80] train=0.998039 val_top1=0.848300 val_top5=0.969200 loss=40583.346188 time: 298.613403\n",
      "[Epoch 81] train=0.998019 val_top1=0.849700 val_top5=0.970700 loss=40460.590496 time: 298.175352\n",
      "[Epoch 82] train=0.998540 val_top1=0.850600 val_top5=0.969700 loss=40299.925797 time: 297.866621\n",
      "[Epoch 83] train=0.998540 val_top1=0.852200 val_top5=0.970000 loss=40212.261036 time: 296.333278\n",
      "[Epoch 84] train=0.998820 val_top1=0.856900 val_top5=0.972000 loss=40091.948219 time: 298.203418\n"
     ]
    },
    {
     "name": "stdout",
     "output_type": "stream",
     "text": [
      "[Epoch 85] train=0.998760 val_top1=0.857300 val_top5=0.974300 loss=40029.241108 time: 298.892381\n",
      "[Epoch 86] train=0.999140 val_top1=0.862300 val_top5=0.973600 loss=39905.425171 time: 296.268983\n",
      "[Epoch 87] train=0.999240 val_top1=0.861400 val_top5=0.975100 loss=39809.113602 time: 298.962638\n",
      "[Epoch 88] train=0.998800 val_top1=0.861800 val_top5=0.973300 loss=39830.046677 time: 298.962334\n",
      "[Epoch 89] train=0.999320 val_top1=0.863100 val_top5=0.974200 loss=39700.674412 time: 297.642255\n",
      "[Epoch 90] train=0.999480 val_top1=0.861600 val_top5=0.974300 loss=39602.407215 time: 298.661737\n",
      "[Epoch 91] train=0.999300 val_top1=0.863800 val_top5=0.974200 loss=39615.033272 time: 298.071984\n",
      "[Epoch 92] train=0.999400 val_top1=0.859500 val_top5=0.974800 loss=39564.148365 time: 298.656788\n",
      "[Epoch 93] train=0.999100 val_top1=0.866500 val_top5=0.976000 loss=39569.543610 time: 301.514002\n",
      "[Epoch 94] train=0.999440 val_top1=0.862700 val_top5=0.973900 loss=39481.390503 time: 302.968914\n",
      "[Epoch 95] train=0.999480 val_top1=0.865100 val_top5=0.976000 loss=39442.983685 time: 303.377882\n",
      "[Epoch 96] train=0.999420 val_top1=0.868300 val_top5=0.974900 loss=39408.987556 time: 304.784906\n",
      "[Epoch 97] train=0.999680 val_top1=0.868200 val_top5=0.974400 loss=39353.720249 time: 305.188035\n",
      "[Epoch 98] train=0.999640 val_top1=0.868200 val_top5=0.974700 loss=39334.445927 time: 304.205811\n",
      "[Epoch 99] train=0.999660 val_top1=0.868900 val_top5=0.974700 loss=39310.829945 time: 303.285040\n",
      "[Epoch 100] train=0.999680 val_top1=0.869000 val_top5=0.975400 loss=39281.034306 time: 304.266349\n",
      "[Epoch 101] train=0.999700 val_top1=0.866900 val_top5=0.975400 loss=39275.027287 time: 304.484116\n",
      "[Epoch 102] train=0.999620 val_top1=0.870700 val_top5=0.975600 loss=39268.927094 time: 300.738542\n",
      "[Epoch 103] train=0.999540 val_top1=0.869900 val_top5=0.975500 loss=39247.898014 time: 303.771198\n",
      "[Epoch 104] train=0.999640 val_top1=0.870900 val_top5=0.976100 loss=39253.914169 time: 304.565661\n",
      "[Epoch 105] train=0.999620 val_top1=0.869500 val_top5=0.976600 loss=39241.073624 time: 304.364290\n",
      "[Epoch 106] train=0.999580 val_top1=0.867700 val_top5=0.976200 loss=39226.966602 time: 301.874239\n",
      "[Epoch 107] train=0.999840 val_top1=0.869600 val_top5=0.976000 loss=39205.423779 time: 303.046528\n",
      "[Epoch 108] train=0.999660 val_top1=0.868700 val_top5=0.974900 loss=39203.880672 time: 302.355663\n",
      "[Epoch 109] train=0.999680 val_top1=0.870400 val_top5=0.976400 loss=39196.078239 time: 298.258368\n",
      "[Epoch 110] train=0.999840 val_top1=0.869500 val_top5=0.975800 loss=39174.307964 time: 297.838233\n",
      "[Epoch 111] train=0.999660 val_top1=0.870000 val_top5=0.976100 loss=39183.252144 time: 298.008510\n",
      "[Epoch 112] train=0.999720 val_top1=0.871200 val_top5=0.976500 loss=39190.604328 time: 297.930217\n",
      "[Epoch 113] train=0.999860 val_top1=0.871700 val_top5=0.976000 loss=39168.139111 time: 297.585236\n",
      "[Epoch 114] train=0.999860 val_top1=0.871700 val_top5=0.976300 loss=39169.831348 time: 298.780202\n",
      "[Epoch 115] train=0.999680 val_top1=0.872500 val_top5=0.976500 loss=39185.863354 time: 297.563721\n",
      "[Epoch 116] train=0.999760 val_top1=0.869700 val_top5=0.975400 loss=39172.196373 time: 298.149101\n",
      "[Epoch 117] train=0.999840 val_top1=0.870900 val_top5=0.976100 loss=39166.542465 time: 297.688869\n",
      "[Epoch 118] train=0.999860 val_top1=0.870100 val_top5=0.975800 loss=39167.474892 time: 298.505561\n",
      "[Epoch 119] train=0.999820 val_top1=0.871700 val_top5=0.975300 loss=39164.214939 time: 297.952487\n",
      "Done.\n"
     ]
    },
    {
     "data": {
      "image/png": "[encoded data removed]",
      "text/plain": [
       "<Figure size 432x288 with 1 Axes>"
      ]
     },
     "metadata": {
      "needs_background": "light"
     },
     "output_type": "display_data"
    }
   ],
   "source": [
    "train_metric = mx.metric.Accuracy()\n",
    "train_history = TrainingHistory(['training-error', 'validation-error'])\n",
    "train_history2 = TrainingHistory(['training-acc', 'val-acc-top1', 'val-acc-top5'])\n",
    "\n",
    "print(\"Training loop started for {} epochs:\".format(epochs))\n",
    "for epoch in range(epochs):\n",
    "    tic = time.time()\n",
    "    train_metric.reset()\n",
    "    train_loss = 0\n",
    "\n",
    "    # Loop through each batch of training data\n",
    "    for i, batch in enumerate(train_data):\n",
    "        # Extract data and label\n",
    "        data = gluon.utils.split_and_load(batch[0], ctx_list=ctx, batch_axis=0)\n",
    "        label = gluon.utils.split_and_load(batch[1], ctx_list=ctx, batch_axis=0)\n",
    "\n",
    "        if mixup:\n",
    "            lam = np.random.beta(alpha, alpha)\n",
    "            if epoch >= epochs - mixup_off_epochs:\n",
    "                lam = 1\n",
    "            data = [lam*X + (1-lam)*X[::-1] for X in data]\n",
    "            \n",
    "            if label_smoothing:\n",
    "                eta = 0.1\n",
    "            else:\n",
    "                eta = 0.0\n",
    "\n",
    "            label = mixup_transform(label, num_classes, lam, eta)\n",
    "        \n",
    "        elif label_smoothing:\n",
    "            hard_label = label\n",
    "            label = smooth(label, num_classes)\n",
    "        \n",
    "        # AutoGrad\n",
    "        with ag.record():\n",
    "            outputs = [net(X.astype(dtype, copy=False)) for X in data]\n",
    "            loss = [loss_fn(yhat, y) for yhat, y in zip(outputs, label)]\n",
    "            \n",
    "        # Backpropagation\n",
    "        for l in loss:\n",
    "            l.backward()\n",
    "        \n",
    "        train_loss += sum([l.sum().asscalar() for l in loss])\n",
    "            \n",
    "        # Optimize\n",
    "        trainer.step(batch_size)\n",
    "        \n",
    "        # Update metrics\n",
    "        if mixup:\n",
    "            output_softmax = [nd.SoftmaxActivation(out.astype(dtype, copy=False)) \\\n",
    "                              for out in outputs]\n",
    "            train_metric.update(label, output_softmax)\n",
    "        else:\n",
    "            if label_smoothing:\n",
    "                train_metric.update(hard_label, outputs)\n",
    "            else:\n",
    "                train_metric.update(label, outputs)\n",
    "\n",
    "    name, acc = train_metric.get()\n",
    "    \n",
    "    # Evaluate on Validation data\n",
    "    #name, val_acc = test(ctx, val_data)\n",
    "    val_acc_top1, val_acc_top5 = test(ctx, val_data)\n",
    "\n",
    "    # Update history and print metrics\n",
    "    train_history.update([1-acc, 1-val_acc_top1])\n",
    "    train_history2.update([acc, val_acc_top1, val_acc_top5])\n",
    "    \n",
    "    print('[Epoch %d] train=%f val_top1=%f val_top5=%f loss=%f time: %f' %\n",
    "        (epoch, acc, val_acc_top1, val_acc_top5, train_loss, time.time()-tic))\n",
    "\n",
    "# We can plot the metric scores with:\n",
    "timestamp = datetime.now().strftime(\"%Y%m%d_%H%M%S\")\n",
    "train_history.plot(['training-error', 'validation-error'], \n",
    "                   save_path=\"./cifar100_resnet56_v1_{o}_{ep}epochs_errors_{t}.png\".format(o=optimizer,\n",
    "                                                                                           ep=epochs,\n",
    "                                                                                           t=timestamp))\n",
    "train_history2.plot(['training-acc', 'val-acc-top1', 'val-acc-top5'],\n",
    "                   save_path=\"./cifar100_resnet56_v1_{o}_{ep}epochs_accuracies_{t}.png\".format(o=optimizer,\n",
    "                                                                                               ep=epochs,\n",
    "                                                                                               t=timestamp))\n",
    "print(\"Done.\")"
   ]
  },
  {
   "cell_type": "markdown",
   "metadata": {},
   "source": [
    "# Save Net and Parameters to a File"
   ]
  },
  {
   "cell_type": "code",
   "execution_count": 12,
   "metadata": {},
   "outputs": [
    {
     "name": "stdout",
     "output_type": "stream",
     "text": [
      "Teacher Parameters saved to /home/ubuntu/ECE6258_Project/scripts/resnext29_teacher_mixupFalse.params\n",
      "Saved.\n"
     ]
    }
   ],
   "source": [
    "filename = os.path.join(os.getcwd(), \"resnext29_teacher_mixup{}.params\".format(mixup))\n",
    "net.save_parameters(filename)\n",
    "print(\"Teacher Parameters saved to {}\".format(filename))\n",
    "\n",
    "print(\"Saved.\")"
   ]
  },
  {
   "cell_type": "markdown",
   "metadata": {},
   "source": [
    "# Practice Loading Model Params\n",
    "Will have to do this when using this CNN model for distillation training with the CIFAR_ResNet56_v1 model"
   ]
  },
  {
   "cell_type": "code",
   "execution_count": 13,
   "metadata": {},
   "outputs": [
    {
     "name": "stdout",
     "output_type": "stream",
     "text": [
      "Dense(1024 -> 100, linear)\n"
     ]
    }
   ],
   "source": [
    "teacher_name = 'cifar_resnext29_16x64d'\n",
    "teacher = get_model(teacher_name, classes=num_classes, ctx=ctx)\n",
    "teacher.load_parameters(filename)\n",
    "\n",
    "teacher.cast(dtype)\n",
    "print(teacher.output)"
   ]
  },
  {
   "cell_type": "code",
   "execution_count": null,
   "metadata": {},
   "outputs": [],
   "source": []
  }
 ],
 "metadata": {
  "kernelspec": {
   "display_name": "Python 3",
   "language": "python",
   "name": "python3"
  },
  "language_info": {
   "codemirror_mode": {
    "name": "ipython",
    "version": 3
   },
   "file_extension": ".py",
   "mimetype": "text/x-python",
   "name": "python",
   "nbconvert_exporter": "python",
   "pygments_lexer": "ipython3",
   "version": "3.7.6"
  }
 },
 "nbformat": 4,
 "nbformat_minor": 4
}
