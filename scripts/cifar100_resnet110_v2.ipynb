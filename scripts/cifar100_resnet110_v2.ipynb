{
 "cells": [
  {
   "cell_type": "markdown",
   "metadata": {},
   "source": [
    "# Teacher Model\n",
    "This notebook trains the ResNext29_16x64d teacher model. \n",
    "The reference paper mentions that the teacher model they used was trained using label smoothing and cosine learning rate decay. \n",
    "The same is done here, but, as seen before on ResNet56 v1 for CIFAR100, the warmup period is increased to T=20 to see if that improves the results of the teacher model, and later, on the student which the teacher trains. \n",
    "\n",
    "The parameters of the teacher model is saved to a .parmas file.\n",
    "\n",
    "The time it takes to train this specific teacher model is roughly ~10 hours...."
   ]
  },
  {
   "cell_type": "code",
   "execution_count": 1,
   "metadata": {},
   "outputs": [
    {
     "name": "stdout",
     "output_type": "stream",
     "text": [
      "Imports successful\n"
     ]
    }
   ],
   "source": [
    "from __future__ import division\n",
    "\n",
    "import argparse, time, logging, random, math, os, sys\n",
    "\n",
    "import numpy as np\n",
    "import mxnet as mx\n",
    "import gluoncv as gcv\n",
    "\n",
    "from datetime import datetime\n",
    "from mxnet import gluon, nd\n",
    "from mxnet import autograd as ag\n",
    "from mxnet.gluon import nn\n",
    "from mxnet.gluon.data.vision import transforms\n",
    "\n",
    "from gluoncv.model_zoo import get_model\n",
    "from gluoncv.utils import makedirs, TrainingHistory, LRSequential, LRScheduler\n",
    "from gluoncv.data import transforms as gcv_transforms\n",
    "print(\"Imports successful\")"
   ]
  },
  {
   "cell_type": "code",
   "execution_count": 2,
   "metadata": {},
   "outputs": [],
   "source": [
    "per_device_batch_size = 256 # Batch Size for Each GPU\n",
    "num_workers = 2             # Number of data loader workers\n",
    "dtype = 'float32'           # Default training data type if float32\n",
    "num_gpus = 1                # number of GPUs to use\n",
    "batch_size = per_device_batch_size * num_gpus # Calculate effective total batch size\n",
    "\n",
    "# For CIFAR100 Dataset:\n",
    "num_classes = 100\n",
    "num_images_per_class = 500\n",
    "num_training_samples = num_classes * num_images_per_class\n",
    "num_batches = num_training_samples // batch_size"
   ]
  },
  {
   "cell_type": "markdown",
   "metadata": {},
   "source": [
    "## Smoothing"
   ]
  },
  {
   "cell_type": "code",
   "execution_count": 3,
   "metadata": {},
   "outputs": [
    {
     "name": "stdout",
     "output_type": "stream",
     "text": [
      "\n",
      "Using label smoothing: True\n"
     ]
    }
   ],
   "source": [
    "label_smoothing = True\n",
    "def smooth(label, num_classes, eta=0.1):\n",
    "    if isinstance(label, nd.NDArray):\n",
    "        print(\"Label changed to list\")\n",
    "        label = [label]\n",
    "    smoothed = []\n",
    "    for l in label:\n",
    "        res = l.one_hot(num_classes, on_value = 1 - eta + eta/num_classes, \n",
    "                                     off_value = eta/num_classes)\n",
    "        smoothed.append(res)\n",
    "    return smoothed\n",
    "print(\"\\nUsing label smoothing: {}\".format(label_smoothing))"
   ]
  },
  {
   "cell_type": "markdown",
   "metadata": {},
   "source": [
    "## Mixup"
   ]
  },
  {
   "cell_type": "code",
   "execution_count": 4,
   "metadata": {},
   "outputs": [
    {
     "name": "stdout",
     "output_type": "stream",
     "text": [
      "Using mixup: False\n"
     ]
    }
   ],
   "source": [
    "mixup = False\n",
    "def mixup_transform(label, num_classes, lam=1, eta=0.0):\n",
    "    if isinstance(label, nd.NDArray):\n",
    "        print(\"Label changed to list\")\n",
    "        label = [label]\n",
    "    res = []\n",
    "    for l in label:\n",
    "        y1 = l.one_hot(num_classes, on_value = 1 - eta + eta/num_classes, \n",
    "                                    off_value = eta/num_classes)\n",
    "        y2 = l[::-1].one_hot(num_classes, on_value = 1 - eta + eta/num_classes, \n",
    "                                          off_value = eta/num_classes)\n",
    "        res.append(lam*y1 + (1-lam)*y2)\n",
    "    return res\n",
    "print(\"Using mixup: {}\".format(mixup))"
   ]
  },
  {
   "cell_type": "markdown",
   "metadata": {},
   "source": [
    "# Model Init"
   ]
  },
  {
   "cell_type": "code",
   "execution_count": 5,
   "metadata": {},
   "outputs": [
    {
     "name": "stdout",
     "output_type": "stream",
     "text": [
      "\n",
      "Model Init Done.\n"
     ]
    }
   ],
   "source": [
    "ctx = [mx.gpu(i) for i in range(num_gpus)]\n",
    "\n",
    "# last_gamma = False\n",
    "# print(\"Using last gamma: {}\".format(last_gamma))\n",
    "# kwargs = {'ctx':ctx, 'classes':num_classes, 'last_gamma':last_gamma}\n",
    "\n",
    "kwargs = {'ctx':ctx, 'classes':num_classes}\n",
    "\n",
    "use_group_norm = False\n",
    "if use_group_norm:\n",
    "    kwargs['norm_layer'] = gcv.nn.GroupNorm\n",
    "    print(\"Using Group Normalization: {}\".format(use_group_norm))\n",
    "\n",
    "default_init = True\n",
    "net = get_model('cifar_resnet110_v2', **kwargs)\n",
    "\n",
    "if default_init:\n",
    "    net.initialize(mx.init.Xavier(), ctx = ctx)\n",
    "else:\n",
    "    net.initialize(mx.init.MSRAPrelu(), ctx=ctx)\n",
    "    print(\"Using MSRA Prelu Init.\")\n",
    "\n",
    "    net.cast(dtype)\n",
    "print(\"\\nModel Init Done.\")"
   ]
  },
  {
   "cell_type": "code",
   "execution_count": 6,
   "metadata": {},
   "outputs": [
    {
     "name": "stdout",
     "output_type": "stream",
     "text": [
      "Preprocessing Step Successful.\n"
     ]
    }
   ],
   "source": [
    "resize = 32\n",
    "mean_rgb = [0.485, 0.456, 0.406]\n",
    "std_rgb = [0.229, 0.224, 0.225]\n",
    "max_aspect_ratio = 4.0 / 3.0\n",
    "min_aspect_ratio = 3.0 / 4.0\n",
    "max_random_area = 1\n",
    "min_random_area = 0.08\n",
    "jitter_param = 0.4\n",
    "lighting_param = 0.1\n",
    "\n",
    "transform_train = transforms.Compose([    \n",
    "#     transforms.RandomResizedCrop(resize,\n",
    "#                                  scale=(min_random_area, max_random_area), \n",
    "#                                  ratio=(min_aspect_ratio, max_aspect_ratio)),\n",
    "    \n",
    "        # Randomly flip the image horizontally\n",
    "    transforms.RandomFlipLeftRight(),\n",
    "    \n",
    "    transforms.RandomBrightness(brightness=jitter_param),\n",
    "    transforms.RandomSaturation(saturation=jitter_param),\n",
    "    transforms.RandomHue(hue=jitter_param),\n",
    "    \n",
    "    transforms.RandomLighting(lighting_param),\n",
    "    \n",
    "    # Randomly crop an area and resize it to be 32x32, then pad it to be 40x40\n",
    "    gcv_transforms.RandomCrop(32, pad=4),\n",
    "        \n",
    "    # Transpose the image from height*width*num_channels to num_channels*height*width\n",
    "    # and map values from [0, 255] to [0,1]\n",
    "    transforms.ToTensor(),\n",
    "    \n",
    "    # Normalize the image with mean and standard deviation calculated across all images\n",
    "    transforms.Normalize(mean_rgb, std_rgb),\n",
    "])\n",
    "\n",
    "transform_test = transforms.Compose([\n",
    "    transforms.ToTensor(),\n",
    "    transforms.Normalize(mean_rgb, std_rgb),\n",
    "])\n",
    "print(\"Preprocessing Step Successful.\")"
   ]
  },
  {
   "cell_type": "markdown",
   "metadata": {},
   "source": [
    "# Compose Image Transforms"
   ]
  },
  {
   "cell_type": "code",
   "execution_count": 7,
   "metadata": {},
   "outputs": [
    {
     "name": "stdout",
     "output_type": "stream",
     "text": [
      "Initialization of train_data and val_data successful.\n",
      "Per Device Batch Size: 256\n"
     ]
    }
   ],
   "source": [
    "# Set train=True for training data\n",
    "# Set shuffle=True to shuffle the training data\n",
    "train_data = gluon.data.DataLoader(\n",
    "    gluon.data.vision.CIFAR100(train=True).transform_first(transform_train),\n",
    "    batch_size=batch_size, \n",
    "    shuffle=True, \n",
    "    last_batch='discard', \n",
    "    num_workers=num_workers)\n",
    "\n",
    "# Set train=False for validation data\n",
    "# Set shuffle=False to shuffle the testing data\n",
    "val_data = gluon.data.DataLoader(\n",
    "    gluon.data.vision.CIFAR100(train=False).transform_first(transform_test),\n",
    "    batch_size=batch_size,\n",
    "    shuffle=False,\n",
    "    num_workers=num_workers)\n",
    "print(\"Initialization of train_data and val_data successful.\")\n",
    "print(\"Per Device Batch Size: {}\".format(per_device_batch_size))"
   ]
  },
  {
   "cell_type": "markdown",
   "metadata": {},
   "source": [
    "# Training Settings"
   ]
  },
  {
   "cell_type": "code",
   "execution_count": 8,
   "metadata": {},
   "outputs": [
    {
     "name": "stdout",
     "output_type": "stream",
     "text": [
      "sparse label loss: False\n",
      "\n",
      "Using label smoothing: True\n",
      "Using mixup: False\n",
      "\n",
      "Using nag Optimizer\n",
      "{'lr_scheduler': <gluoncv.utils.lr_scheduler.LRSequential object at 0x7fb76019de90>, 'wd': 0.0001, 'momentum': 0.9}\n",
      "\n",
      "Number of warmup epochs: 20\n",
      "Warmup Learning Rate Mode: linear\n",
      "Learing Rate Mode: cosine\n",
      "Learing Rate Decay: 0.1\n",
      "Learning Rate Decay Epochs: [30, 60, 90, inf]\n",
      "\n",
      "Training Settings Set Successfully.\n"
     ]
    }
   ],
   "source": [
    "if mixup:\n",
    "    epochs = 200 # Mixup asks for longer training to converge better\n",
    "else:\n",
    "    epochs = 120\n",
    "    \n",
    "warmup_epochs = 20\n",
    "mixup_off_epochs = 0 # Modify this depending on the other mixup results with CIFAR_ResNet56\n",
    "alpha = 0.2 # For Beta distribution sampling\n",
    "\n",
    "lr_decay_epochs = [30, 60, 90, np.inf] # Epochs where learning rate decays\n",
    "# lr_decay_epochs = [40, 80]\n",
    "\n",
    "warmup_lr_mode = 'linear'\n",
    "lr_mode = 'cosine'\n",
    "lr_decay = 0.1 # Learning rate decay factor\n",
    "target_lr = 0\n",
    "\n",
    "# Sets up a linear warmup scheduler, followed by a cosine rate decay.\n",
    "# Consult the paper for the proper parameters (base_lr, target_lr, warmup_epochs, etc.)\n",
    "lr_scheduler = LRSequential([\n",
    "    LRScheduler(warmup_lr_mode,\n",
    "                base_lr = 0,\n",
    "                target_lr = 0.1,\n",
    "                nepochs = warmup_epochs,\n",
    "                iters_per_epoch = num_batches),\n",
    "    \n",
    "    LRScheduler(lr_mode,\n",
    "                base_lr = 0.1,\n",
    "                target_lr = target_lr,\n",
    "                nepochs = epochs - warmup_epochs,\n",
    "                iters_per_epoch = num_batches,\n",
    "                step_epoch = lr_decay_epochs,\n",
    "                step_factor = lr_decay,\n",
    "                power = 2)\n",
    "])\n",
    "\n",
    "# Nesterov accelerated gradient descent and set parameters (based of off \n",
    "# reference papers and default values):\n",
    "optimizer = 'nag'\n",
    "optimizer_params = {'lr_scheduler': lr_scheduler, 'wd': 0.0001, 'momentum': 0.9}\n",
    "\n",
    "# Define our trainer for net\n",
    "trainer = gluon.Trainer(net.collect_params(), optimizer, optimizer_params)\n",
    "\n",
    "if label_smoothing or mixup:\n",
    "    sparse_label_loss = False\n",
    "else:\n",
    "    sparse_label_loss = True\n",
    "\n",
    "print(\"sparse label loss: {}\".format(sparse_label_loss))\n",
    "\n",
    "loss_fn = gluon.loss.SoftmaxCrossEntropyLoss(sparse_label=sparse_label_loss)\n",
    "\n",
    "train_metric = mx.metric.Accuracy()\n",
    "train_history = TrainingHistory(['training-error', 'validation-error'])\n",
    "train_history2 = TrainingHistory(['training-acc', 'val-acc-top1', 'val-acc-top5'])\n",
    "\n",
    "print(\"\\nUsing label smoothing: {}\".format(label_smoothing))\n",
    "print(\"Using mixup: {}\".format(mixup))\n",
    "\n",
    "print(\"\\nUsing {} Optimizer\".format(optimizer))\n",
    "print(optimizer_params)\n",
    "print(\"\\nNumber of warmup epochs: {}\".format(warmup_epochs))\n",
    "print(\"Warmup Learning Rate Mode: {}\".format(warmup_lr_mode))\n",
    "print(\"Learing Rate Mode: {}\".format(lr_mode))\n",
    "print(\"Learing Rate Decay: {}\".format(lr_decay))\n",
    "print(\"Learning Rate Decay Epochs: {}\".format(lr_decay_epochs))\n",
    "print(\"\\nTraining Settings Set Successfully.\")"
   ]
  },
  {
   "cell_type": "markdown",
   "metadata": {},
   "source": [
    "# Test Function"
   ]
  },
  {
   "cell_type": "code",
   "execution_count": 9,
   "metadata": {},
   "outputs": [],
   "source": [
    "acc_top1 = mx.metric.Accuracy()\n",
    "acc_top5 = mx.metric.TopKAccuracy(5)\n",
    "\n",
    "def test(ctx, val_data):\n",
    "    acc_top1.reset()\n",
    "    acc_top5.reset()\n",
    "    \n",
    "    for i, batch in enumerate(val_data):\n",
    "        data = gluon.utils.split_and_load(batch[0], ctx_list=ctx, batch_axis=0)\n",
    "        label = gluon.utils.split_and_load(batch[1], ctx_list=ctx, batch_axis=0)\n",
    "        outputs = [net(X.astype(dtype, copy=False)) for X in data]\n",
    "        acc_top1.update(label, outputs)\n",
    "        acc_top5.update(label, outputs)\n",
    "    \n",
    "    _, top1 = acc_top1.get()\n",
    "    _, top5 = acc_top5.get()\n",
    "    \n",
    "    return (top1, top5)"
   ]
  },
  {
   "cell_type": "markdown",
   "metadata": {},
   "source": [
    "# Training Loop"
   ]
  },
  {
   "cell_type": "code",
   "execution_count": 10,
   "metadata": {},
   "outputs": [
    {
     "name": "stdout",
     "output_type": "stream",
     "text": [
      "Training loop started for 120 epochs:\n",
      "[Epoch 0] train=0.043249 val_top1=0.107700 val_top5=0.369500 loss=214263.634888 time: 38.139582\n",
      "[Epoch 1] train=0.119551 val_top1=0.166700 val_top5=0.499300 loss=166779.915649 time: 37.692585\n",
      "[Epoch 2] train=0.167248 val_top1=0.186600 val_top5=0.529800 loss=156513.267273 time: 38.166847\n",
      "[Epoch 3] train=0.206731 val_top1=0.254100 val_top5=0.650500 loss=150399.711609 time: 39.656288\n",
      "[Epoch 4] train=0.272736 val_top1=0.319400 val_top5=0.728300 loss=140662.292847 time: 39.337886\n",
      "[Epoch 5] train=0.338802 val_top1=0.372100 val_top5=0.779500 loss=131079.549866 time: 38.105242\n",
      "[Epoch 6] train=0.393069 val_top1=0.394700 val_top5=0.792500 loss=122805.136963 time: 38.618651\n",
      "[Epoch 7] train=0.439623 val_top1=0.426600 val_top5=0.815100 loss=116241.757629 time: 38.920499\n",
      "[Epoch 8] train=0.479848 val_top1=0.479500 val_top5=0.841900 loss=110844.341064 time: 38.549760\n",
      "[Epoch 9] train=0.512680 val_top1=0.480800 val_top5=0.825400 loss=106164.509583 time: 38.919050\n",
      "[Epoch 10] train=0.538842 val_top1=0.504600 val_top5=0.844400 loss=102648.374878 time: 39.070067\n",
      "[Epoch 11] train=0.560958 val_top1=0.503200 val_top5=0.859600 loss=99349.096863 time: 39.151489\n",
      "[Epoch 12] train=0.580669 val_top1=0.502600 val_top5=0.865700 loss=96837.332489 time: 38.685250\n",
      "[Epoch 13] train=0.594671 val_top1=0.530200 val_top5=0.889000 loss=94742.043243 time: 39.105780\n",
      "[Epoch 14] train=0.610357 val_top1=0.530000 val_top5=0.884900 loss=92451.616211 time: 39.302556\n",
      "[Epoch 15] train=0.624459 val_top1=0.521900 val_top5=0.877700 loss=90471.930420 time: 38.601929\n",
      "[Epoch 16] train=0.637620 val_top1=0.567500 val_top5=0.898600 loss=88675.976105 time: 38.195275\n",
      "[Epoch 17] train=0.647336 val_top1=0.582300 val_top5=0.901900 loss=87131.755096 time: 38.259541\n",
      "[Epoch 18] train=0.657492 val_top1=0.571900 val_top5=0.913100 loss=85836.900482 time: 39.326049\n",
      "[Epoch 19] train=0.664303 val_top1=0.603300 val_top5=0.903400 loss=84842.576294 time: 37.940670\n",
      "[Epoch 20] train=0.673658 val_top1=0.571900 val_top5=0.883200 loss=83484.921143 time: 38.285630\n",
      "[Epoch 21] train=0.685397 val_top1=0.621100 val_top5=0.917600 loss=81933.359375 time: 40.030550\n",
      "[Epoch 22] train=0.696494 val_top1=0.608200 val_top5=0.911300 loss=80299.857910 time: 38.496713\n",
      "[Epoch 23] train=0.705909 val_top1=0.621800 val_top5=0.907600 loss=79076.695801 time: 38.158372\n",
      "[Epoch 24] train=0.711238 val_top1=0.628500 val_top5=0.914800 loss=78309.122223 time: 37.979831\n",
      "[Epoch 25] train=0.722236 val_top1=0.638900 val_top5=0.931200 loss=76787.255219 time: 37.981524\n",
      "[Epoch 26] train=0.730028 val_top1=0.653500 val_top5=0.928200 loss=75802.834717 time: 39.688700\n",
      "[Epoch 27] train=0.736178 val_top1=0.622700 val_top5=0.922900 loss=74849.154999 time: 38.299670\n",
      "[Epoch 28] train=0.746474 val_top1=0.661900 val_top5=0.931200 loss=73670.280579 time: 37.796262\n",
      "[Epoch 29] train=0.747336 val_top1=0.695100 val_top5=0.945600 loss=73268.272919 time: 38.324443\n",
      "[Epoch 30] train=0.756571 val_top1=0.631800 val_top5=0.915800 loss=72138.947144 time: 38.672182\n",
      "[Epoch 31] train=0.760256 val_top1=0.676100 val_top5=0.938100 loss=71571.881348 time: 38.315170\n",
      "[Epoch 32] train=0.766286 val_top1=0.682600 val_top5=0.941700 loss=70888.285675 time: 38.021911\n",
      "[Epoch 33] train=0.773037 val_top1=0.679900 val_top5=0.935400 loss=69974.539978 time: 37.687016\n",
      "[Epoch 34] train=0.776542 val_top1=0.687700 val_top5=0.938600 loss=69504.014984 time: 37.825413\n",
      "[Epoch 35] train=0.781390 val_top1=0.682500 val_top5=0.944200 loss=68882.998474 time: 38.136058\n",
      "[Epoch 36] train=0.788962 val_top1=0.691700 val_top5=0.944300 loss=67740.730103 time: 38.132517\n",
      "[Epoch 37] train=0.789083 val_top1=0.698700 val_top5=0.941000 loss=67535.815552 time: 38.477824\n",
      "[Epoch 38] train=0.794892 val_top1=0.689300 val_top5=0.934600 loss=66756.119385 time: 37.892024\n",
      "[Epoch 39] train=0.799319 val_top1=0.711200 val_top5=0.947400 loss=66330.437714 time: 37.855380\n",
      "[Epoch 40] train=0.804026 val_top1=0.677600 val_top5=0.927400 loss=65466.503387 time: 37.802479\n",
      "[Epoch 41] train=0.807472 val_top1=0.728000 val_top5=0.951200 loss=65353.077576 time: 38.127143\n",
      "[Epoch 42] train=0.812941 val_top1=0.714700 val_top5=0.946900 loss=64518.267426 time: 40.161057\n",
      "[Epoch 43] train=0.815124 val_top1=0.687100 val_top5=0.942900 loss=64134.750305 time: 37.965587\n",
      "[Epoch 44] train=0.822416 val_top1=0.697400 val_top5=0.944200 loss=63303.233612 time: 38.386598\n",
      "[Epoch 45] train=0.822356 val_top1=0.695600 val_top5=0.942700 loss=63175.408203 time: 38.388671\n",
      "[Epoch 46] train=0.824780 val_top1=0.712000 val_top5=0.942200 loss=62786.008667 time: 39.778751\n",
      "[Epoch 47] train=0.828886 val_top1=0.722200 val_top5=0.947400 loss=62172.984467 time: 38.650180\n",
      "[Epoch 48] train=0.830769 val_top1=0.716600 val_top5=0.946700 loss=61837.717346 time: 39.029455\n",
      "[Epoch 49] train=0.837240 val_top1=0.707700 val_top5=0.941200 loss=61130.273621 time: 39.545587\n",
      "[Epoch 50] train=0.840084 val_top1=0.688500 val_top5=0.943500 loss=60894.574310 time: 40.747132\n",
      "[Epoch 51] train=0.843730 val_top1=0.718900 val_top5=0.945600 loss=60194.602112 time: 38.895157\n",
      "[Epoch 52] train=0.847236 val_top1=0.716800 val_top5=0.944400 loss=59715.751617 time: 39.009181\n",
      "[Epoch 53] train=0.851683 val_top1=0.704200 val_top5=0.946400 loss=59321.693939 time: 38.117896\n",
      "[Epoch 54] train=0.851823 val_top1=0.723100 val_top5=0.943200 loss=58910.810150 time: 38.994706\n",
      "[Epoch 55] train=0.858173 val_top1=0.731700 val_top5=0.952200 loss=58296.645660 time: 39.127424\n",
      "[Epoch 56] train=0.860917 val_top1=0.715200 val_top5=0.944000 loss=58012.470245 time: 39.410840\n",
      "[Epoch 57] train=0.861118 val_top1=0.735500 val_top5=0.947000 loss=57878.219788 time: 39.348156\n",
      "[Epoch 58] train=0.864603 val_top1=0.717300 val_top5=0.947900 loss=57245.802094 time: 39.898111\n",
      "[Epoch 59] train=0.867648 val_top1=0.700000 val_top5=0.936900 loss=56781.408020 time: 38.917622\n",
      "[Epoch 60] train=0.872877 val_top1=0.732300 val_top5=0.952300 loss=56360.029846 time: 38.511340\n",
      "[Epoch 61] train=0.874079 val_top1=0.745700 val_top5=0.952300 loss=55946.672775 time: 39.955321\n",
      "[Epoch 62] train=0.879187 val_top1=0.718500 val_top5=0.936700 loss=55348.176819 time: 37.729024\n",
      "[Epoch 63] train=0.884235 val_top1=0.720100 val_top5=0.945000 loss=54691.597473 time: 37.874106\n",
      "[Epoch 64] train=0.885958 val_top1=0.736400 val_top5=0.947900 loss=54545.189865 time: 37.931622\n",
      "[Epoch 65] train=0.888842 val_top1=0.723700 val_top5=0.949000 loss=54095.203644 time: 37.893310\n",
      "[Epoch 66] train=0.892748 val_top1=0.734400 val_top5=0.947800 loss=53829.160187 time: 38.058383\n",
      "[Epoch 67] train=0.896034 val_top1=0.747500 val_top5=0.951100 loss=53181.219360 time: 38.053714\n",
      "[Epoch 68] train=0.897716 val_top1=0.748600 val_top5=0.952600 loss=52867.227142 time: 39.565781\n",
      "[Epoch 69] train=0.901763 val_top1=0.747300 val_top5=0.950600 loss=52511.996613 time: 38.594968\n",
      "[Epoch 70] train=0.905208 val_top1=0.742200 val_top5=0.948000 loss=51955.363190 time: 38.620203\n",
      "[Epoch 71] train=0.908474 val_top1=0.747200 val_top5=0.949100 loss=51524.841476 time: 38.716833\n",
      "[Epoch 72] train=0.912119 val_top1=0.743900 val_top5=0.949400 loss=51031.408264 time: 37.892726\n",
      "[Epoch 73] train=0.917248 val_top1=0.724200 val_top5=0.943700 loss=50485.109909 time: 38.151461\n",
      "[Epoch 74] train=0.915885 val_top1=0.750000 val_top5=0.948600 loss=50419.269775 time: 38.178660\n",
      "[Epoch 75] train=0.921955 val_top1=0.744800 val_top5=0.951300 loss=49881.356689 time: 37.859305\n",
      "[Epoch 76] train=0.922636 val_top1=0.753100 val_top5=0.948700 loss=49511.588058 time: 39.448701\n",
      "[Epoch 77] train=0.929307 val_top1=0.752700 val_top5=0.948300 loss=48805.469498 time: 38.402878\n",
      "[Epoch 78] train=0.929948 val_top1=0.742700 val_top5=0.948800 loss=48720.013641 time: 37.893900\n",
      "[Epoch 79] train=0.933373 val_top1=0.749300 val_top5=0.948300 loss=48324.873184 time: 38.096372\n",
      "[Epoch 80] train=0.937019 val_top1=0.752500 val_top5=0.948100 loss=47790.575974 time: 37.689989\n",
      "[Epoch 81] train=0.941286 val_top1=0.759900 val_top5=0.948800 loss=47229.365082 time: 37.991300\n",
      "[Epoch 82] train=0.943810 val_top1=0.762500 val_top5=0.952900 loss=46872.955521 time: 37.743396\n",
      "[Epoch 83] train=0.948157 val_top1=0.761300 val_top5=0.951900 loss=46384.374344 time: 38.148633\n",
      "[Epoch 84] train=0.949179 val_top1=0.757600 val_top5=0.946000 loss=46102.304459 time: 38.198190\n"
     ]
    },
    {
     "name": "stdout",
     "output_type": "stream",
     "text": [
      "[Epoch 85] train=0.953305 val_top1=0.769200 val_top5=0.953700 loss=45634.381302 time: 38.074938\n",
      "[Epoch 86] train=0.956130 val_top1=0.773100 val_top5=0.951600 loss=45218.332642 time: 37.869537\n",
      "[Epoch 87] train=0.958353 val_top1=0.777600 val_top5=0.954300 loss=44970.796738 time: 39.451252\n",
      "[Epoch 88] train=0.961518 val_top1=0.763200 val_top5=0.952300 loss=44546.909225 time: 38.592644\n",
      "[Epoch 89] train=0.965505 val_top1=0.770200 val_top5=0.951600 loss=44172.786194 time: 38.371087\n",
      "[Epoch 90] train=0.965164 val_top1=0.776500 val_top5=0.953200 loss=44040.247864 time: 38.167066\n",
      "[Epoch 91] train=0.968029 val_top1=0.770000 val_top5=0.951000 loss=43687.709579 time: 38.251361\n",
      "[Epoch 92] train=0.971494 val_top1=0.770500 val_top5=0.953200 loss=43321.417236 time: 37.780700\n",
      "[Epoch 93] train=0.974079 val_top1=0.784600 val_top5=0.951900 loss=42955.467178 time: 37.795654\n",
      "[Epoch 94] train=0.975581 val_top1=0.780600 val_top5=0.952200 loss=42795.486343 time: 37.807285\n",
      "[Epoch 95] train=0.976202 val_top1=0.780300 val_top5=0.953400 loss=42613.196320 time: 38.313864\n",
      "[Epoch 96] train=0.978486 val_top1=0.783900 val_top5=0.950200 loss=42381.638123 time: 39.912655\n",
      "[Epoch 97] train=0.981310 val_top1=0.785300 val_top5=0.952500 loss=41985.886826 time: 38.101760\n",
      "[Epoch 98] train=0.982772 val_top1=0.784400 val_top5=0.953500 loss=41786.626892 time: 38.230763\n",
      "[Epoch 99] train=0.984535 val_top1=0.785200 val_top5=0.951500 loss=41578.880463 time: 38.123144\n",
      "[Epoch 100] train=0.985357 val_top1=0.787000 val_top5=0.952300 loss=41441.812332 time: 37.938061\n",
      "[Epoch 101] train=0.986158 val_top1=0.787100 val_top5=0.951700 loss=41326.453842 time: 38.418429\n",
      "[Epoch 102] train=0.986298 val_top1=0.787100 val_top5=0.950100 loss=41318.351501 time: 37.778341\n",
      "[Epoch 103] train=0.987240 val_top1=0.788000 val_top5=0.950700 loss=41130.320007 time: 37.707006\n",
      "[Epoch 104] train=0.989343 val_top1=0.790300 val_top5=0.950400 loss=40931.640900 time: 37.966186\n",
      "[Epoch 105] train=0.990124 val_top1=0.791300 val_top5=0.950900 loss=40789.887573 time: 38.126399\n",
      "[Epoch 106] train=0.989884 val_top1=0.793400 val_top5=0.952100 loss=40794.094727 time: 38.508995\n",
      "[Epoch 107] train=0.990645 val_top1=0.791600 val_top5=0.951000 loss=40716.301163 time: 38.293848\n",
      "[Epoch 108] train=0.991086 val_top1=0.793500 val_top5=0.951200 loss=40681.243240 time: 37.694154\n",
      "[Epoch 109] train=0.991106 val_top1=0.793000 val_top5=0.950400 loss=40657.915405 time: 38.057245\n",
      "[Epoch 110] train=0.992147 val_top1=0.793100 val_top5=0.951600 loss=40548.447693 time: 39.580584\n",
      "[Epoch 111] train=0.991707 val_top1=0.791700 val_top5=0.949800 loss=40501.945267 time: 40.054217\n",
      "[Epoch 112] train=0.992488 val_top1=0.791200 val_top5=0.950400 loss=40462.503647 time: 38.747928\n",
      "[Epoch 113] train=0.992768 val_top1=0.792100 val_top5=0.950800 loss=40427.545517 time: 39.146100\n",
      "[Epoch 114] train=0.992528 val_top1=0.792500 val_top5=0.950900 loss=40463.169815 time: 39.154278\n",
      "[Epoch 115] train=0.992268 val_top1=0.792300 val_top5=0.951300 loss=40415.069672 time: 39.456199\n",
      "[Epoch 116] train=0.992107 val_top1=0.793400 val_top5=0.950000 loss=40425.908997 time: 39.220549\n",
      "[Epoch 117] train=0.992808 val_top1=0.792200 val_top5=0.951200 loss=40396.581039 time: 38.795153\n",
      "[Epoch 118] train=0.992728 val_top1=0.792200 val_top5=0.950600 loss=40385.401871 time: 40.574760\n",
      "[Epoch 119] train=0.993409 val_top1=0.793600 val_top5=0.950200 loss=40376.488831 time: 38.985365\n",
      "Done.\n"
     ]
    },
    {
     "data": {
      "image/png": "[encoded data removed]",
      "text/plain": [
       "<Figure size 432x288 with 1 Axes>"
      ]
     },
     "metadata": {
      "needs_background": "light"
     },
     "output_type": "display_data"
    }
   ],
   "source": [
    "train_metric = mx.metric.Accuracy()\n",
    "train_history = TrainingHistory(['training-error', 'validation-error'])\n",
    "train_history2 = TrainingHistory(['training-acc', 'val-acc-top1', 'val-acc-top5'])\n",
    "\n",
    "print(\"Training loop started for {} epochs:\".format(epochs))\n",
    "for epoch in range(epochs):\n",
    "    tic = time.time()\n",
    "    train_metric.reset()\n",
    "    train_loss = 0\n",
    "\n",
    "    # Loop through each batch of training data\n",
    "    for i, batch in enumerate(train_data):\n",
    "        # Extract data and label\n",
    "        data = gluon.utils.split_and_load(batch[0], ctx_list=ctx, batch_axis=0)\n",
    "        label = gluon.utils.split_and_load(batch[1], ctx_list=ctx, batch_axis=0)\n",
    "\n",
    "        if mixup:\n",
    "            lam = np.random.beta(alpha, alpha)\n",
    "            if epoch >= epochs - mixup_off_epochs:\n",
    "                lam = 1\n",
    "            data = [lam*X + (1-lam)*X[::-1] for X in data]\n",
    "            \n",
    "            if label_smoothing:\n",
    "                eta = 0.1\n",
    "            else:\n",
    "                eta = 0.0\n",
    "\n",
    "            label = mixup_transform(label, num_classes, lam, eta)\n",
    "        \n",
    "        elif label_smoothing:\n",
    "            hard_label = label\n",
    "            label = smooth(label, num_classes)\n",
    "        \n",
    "        # AutoGrad\n",
    "        with ag.record():\n",
    "            outputs = [net(X.astype(dtype, copy=False)) for X in data]\n",
    "            loss = [loss_fn(yhat, y) for yhat, y in zip(outputs, label)]\n",
    "            \n",
    "        # Backpropagation\n",
    "        for l in loss:\n",
    "            l.backward()\n",
    "        \n",
    "        train_loss += sum([l.sum().asscalar() for l in loss])\n",
    "            \n",
    "        # Optimize\n",
    "        trainer.step(batch_size)\n",
    "        \n",
    "        # Update metrics\n",
    "        if mixup:\n",
    "            output_softmax = [nd.SoftmaxActivation(out.astype(dtype, copy=False)) \\\n",
    "                              for out in outputs]\n",
    "            train_metric.update(label, output_softmax)\n",
    "        else:\n",
    "            if label_smoothing:\n",
    "                train_metric.update(hard_label, outputs)\n",
    "            else:\n",
    "                train_metric.update(label, outputs)\n",
    "\n",
    "    name, acc = train_metric.get()\n",
    "    \n",
    "    # Evaluate on Validation data\n",
    "    #name, val_acc = test(ctx, val_data)\n",
    "    val_acc_top1, val_acc_top5 = test(ctx, val_data)\n",
    "\n",
    "    # Update history and print metrics\n",
    "    train_history.update([1-acc, 1-val_acc_top1])\n",
    "    train_history2.update([acc, val_acc_top1, val_acc_top5])\n",
    "    \n",
    "    print('[Epoch %d] train=%f val_top1=%f val_top5=%f loss=%f time: %f' %\n",
    "        (epoch, acc, val_acc_top1, val_acc_top5, train_loss, time.time()-tic))\n",
    "\n",
    "# We can plot the metric scores with:\n",
    "timestamp = datetime.now().strftime(\"%Y%m%d_%H%M%S\")\n",
    "train_history.plot(['training-error', 'validation-error'], \n",
    "                   save_path=\"./cifar100_resnet56_v1_{o}_{ep}epochs_errors_{t}.png\".format(o=optimizer,\n",
    "                                                                                           ep=epochs,\n",
    "                                                                                           t=timestamp))\n",
    "train_history2.plot(['training-acc', 'val-acc-top1', 'val-acc-top5'],\n",
    "                   save_path=\"./cifar100_resnet56_v1_{o}_{ep}epochs_accuracies_{t}.png\".format(o=optimizer,\n",
    "                                                                                               ep=epochs,\n",
    "                                                                                               t=timestamp))\n",
    "print(\"Done.\")"
   ]
  },
  {
   "cell_type": "markdown",
   "metadata": {},
   "source": [
    "# Save Net and Parameters to a File"
   ]
  },
  {
   "cell_type": "code",
   "execution_count": 11,
   "metadata": {},
   "outputs": [
    {
     "name": "stdout",
     "output_type": "stream",
     "text": [
      "Teacher Parameters saved to /home/ubuntu/ECE6258_Project/scripts/resnet110_v2_teacher_mixupFalse.params\n",
      "Saved.\n"
     ]
    }
   ],
   "source": [
    "filename = os.path.join(os.getcwd(), \"resnet110_v2_teacher_mixup{}.params\".format(mixup))\n",
    "net.save_parameters(filename)\n",
    "print(\"Teacher Parameters saved to {}\".format(filename))\n",
    "\n",
    "print(\"Saved.\")"
   ]
  },
  {
   "cell_type": "markdown",
   "metadata": {},
   "source": [
    "# Practice Loading Model Params\n",
    "Will have to do this when using this CNN model for distillation training with the CIFAR_ResNet56_v1 model"
   ]
  },
  {
   "cell_type": "code",
   "execution_count": 12,
   "metadata": {},
   "outputs": [
    {
     "name": "stdout",
     "output_type": "stream",
     "text": [
      "Dense(64 -> 100, linear)\n"
     ]
    }
   ],
   "source": [
    "teacher_name = 'cifar_resnet110_v2'\n",
    "teacher = get_model(teacher_name, classes=num_classes, ctx=ctx)\n",
    "teacher.load_parameters(filename)\n",
    "\n",
    "teacher.cast(dtype)\n",
    "print(teacher.output)"
   ]
  },
  {
   "cell_type": "code",
   "execution_count": null,
   "metadata": {},
   "outputs": [],
   "source": []
  }
 ],
 "metadata": {
  "kernelspec": {
   "display_name": "Python 3",
   "language": "python",
   "name": "python3"
  },
  "language_info": {
   "codemirror_mode": {
    "name": "ipython",
    "version": 3
   },
   "file_extension": ".py",
   "mimetype": "text/x-python",
   "name": "python",
   "nbconvert_exporter": "python",
   "pygments_lexer": "ipython3",
   "version": "3.7.6"
  }
 },
 "nbformat": 4,
 "nbformat_minor": 4
}
