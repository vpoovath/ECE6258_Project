{
 "cells": [
  {
   "cell_type": "code",
   "execution_count": 2,
   "metadata": {},
   "outputs": [
    {
     "name": "stdout",
     "output_type": "stream",
     "text": [
      "Imports successful\n"
     ]
    }
   ],
   "source": [
    "import argparse, time\n",
    "import numpy as np\n",
    "import os\n",
    "import mxnet as mx\n",
    "\n",
    "from mxnet import gluon, nd\n",
    "from mxnet import autograd as ag\n",
    "from mxnet.gluon import nn\n",
    "from mxnet.io import ImageRecordIter\n",
    "\n",
    "from gluoncv.model_zoo import get_model\n",
    "from gluoncv.utils import makedirs, TrainingHistory\n",
    "print(\"Imports Successful.\")"
   ]
  },
  {
   "cell_type": "code",
   "execution_count": 3,
   "metadata": {},
   "outputs": [
    {
     "name": "stdout",
     "output_type": "stream",
     "text": [
      "Net Init Complete.\n"
     ]
    }
   ],
   "source": [
    "num_gpus = 1\n",
    "ctx = [mx.gpu(i) for i in range(num_gpus)]\n",
    "\n",
    "# Get the model ResNet50_v2 with 10 output classes\n",
    "net = get_model('ResNet50_v2', classes=1000)\n",
    "net.initialize(mx.init.MSRAPrelu(), ctx=ctx)\n",
    "print(\"Net Init Complete.\")"
   ]
  },
  {
   "cell_type": "code",
   "execution_count": 5,
   "metadata": {},
   "outputs": [
    {
     "name": "stdout",
     "output_type": "stream",
     "text": [
      "RecordIter Setup Done.\n"
     ]
    }
   ],
   "source": [
    "jitter_param = 0.4\n",
    "lighting_param = 0.1\n",
    "mean_rgb = [123.68, 116.779, 103.939]\n",
    "std_rgb = [58.393, 57.12, 57.375]\n",
    "\n",
    "train_data = mx.io.ImageRecordIter(\n",
    "    path_imgrec = '/newvolume/ImageNet-ILSVRC2012/train/train_rec.rec',\n",
    "    path_imgidx = '/newvolume/ImageNet-ILSVRC2012/train/train_rec.idx',\n",
    "    preprocess_threads  = 32,\n",
    "    shuffle             = True,\n",
    "    batch_size          = 256,\n",
    "\n",
    "    data_shape          = (3, 224, 224),\n",
    "    mean_r              = mean_rgb[0],\n",
    "    mean_g              = mean_rgb[1],\n",
    "    mean_b              = mean_rgb[2],\n",
    "    std_r               = std_rgb[0],\n",
    "    std_g               = std_rgb[1],\n",
    "    std_b               = std_rgb[2],\n",
    "    rand_mirror         = True,\n",
    "    random_resized_crop = True,\n",
    "    max_aspect_ratio    = 4. / 3.,\n",
    "    min_aspect_ratio    = 3. / 4.,\n",
    "    max_random_area     = 1,\n",
    "    min_random_area     = 0.08,\n",
    "    brightness          = jitter_param,\n",
    "    saturation          = jitter_param,\n",
    "    contrast            = jitter_param,\n",
    "    pca_noise           = lighting_param,\n",
    ")\n",
    "\n",
    "val_data = mx.io.ImageRecordIter(\n",
    "    path_imgrec = '/newvolume/ImageNet-ILSVRC2012/test/val_rec.rec',\n",
    "    path_imgidx = '/newvolume/ImageNet-ILSVRC2012/test/val_rec.idx',\n",
    "    preprocess_threads  = 32,\n",
    "    shuffle             = False,\n",
    "    batch_size          = 256,\n",
    "\n",
    "    resize              = 256,\n",
    "    data_shape          = (3, 224, 224),\n",
    "    mean_r              = mean_rgb[0],\n",
    "    mean_g              = mean_rgb[1],\n",
    "    mean_b              = mean_rgb[2],\n",
    "    std_r               = std_rgb[0],\n",
    "    std_g               = std_rgb[1],\n",
    "    std_b               = std_rgb[2],\n",
    ")\n",
    "print(\"RecordIter Setup Done.\")"
   ]
  }
 ],
 "metadata": {
  "kernelspec": {
   "display_name": "Python [conda env:mxnet_latest_p37]",
   "language": "python",
   "name": "conda-env-mxnet_latest_p37-py"
  },
  "language_info": {
   "codemirror_mode": {
    "name": "ipython",
    "version": 3
   },
   "file_extension": ".py",
   "mimetype": "text/x-python",
   "name": "python",
   "nbconvert_exporter": "python",
   "pygments_lexer": "ipython3",
   "version": "3.7.6"
  }
 },
 "nbformat": 4,
 "nbformat_minor": 4
}
